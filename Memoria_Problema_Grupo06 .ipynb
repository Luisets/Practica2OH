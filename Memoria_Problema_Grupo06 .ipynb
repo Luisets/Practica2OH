{
 "cells": [
  {
   "cell_type": "markdown",
   "metadata": {},
   "source": [
    "# <center>Formulación de un problema de optimización (Grupo 06)</center>\n",
    "# <center>\"Trayectoria del disparo de un cañón con objetivo\"</center>\n"
   ]
  },
  {
   "cell_type": "markdown",
   "metadata": {},
   "source": [
    "# 0. Introducción"
   ]
  },
  {
   "cell_type": "markdown",
   "metadata": {},
   "source": [
    "Como parte de la última práctica de la asignatura Optimización Heurística, se ha elaborado el presente Notebook como memoria de la realización del proyecto de la formulación de un problema de optimización. \n",
    "\n",
    "Para este segundo apartado se propone al grupo la formulación de un problema de la manera correcta para que pueda ser resuelto mediante el uso de algoritmos evolutivos. Para ello es necesario cumplir los siguientes requisitos principales:\n",
    "\n",
    "- La función de fitness será programada desde cero.\n",
    "- Se deberá debatir los aspectos relacionados con el problema escogido (número de variables, alelos, operadores específicos...)\n"
   ]
  },
  {
   "cell_type": "markdown",
   "metadata": {},
   "source": [
    "De esta manera, hemos decidido dividir la presente memoria en los siguientes apartados:\n",
    "\n",
    "1. <b>Planteamiento del problema:</b> presentación del problema, descripción del mismo, variables a tener en cuenta, objetivo del problema.\n",
    "2. <b>Codificación de las variables:</b> forma en la que se han cofidicado las variables.\n",
    "3. <b>Función de fitness:</b> explicación de la función empleada.\n",
    "4. <b>Funcionamiento del problema:</b> implementación del algoritmo con el problema y ejemplo de resolución del problema.\n",
    "5. <b>Solución del problema y conclusión:</b> solución del problema, resultados obtenidos y comentarios finales."
   ]
  },
  {
   "cell_type": "markdown",
   "metadata": {},
   "source": [
    "# 1. Planteamiento del problema\n"
   ]
  },
  {
   "cell_type": "markdown",
   "metadata": {},
   "source": [
    "Se requiere diseñar un cañón capaz de disparar un proyectil para que se acerque lo máximo posible a un objetivo que se encuentre en el plano horizontal (en el suelo). Para ello el cañón dispone de las siguientes 3 variables:\n",
    "\n",
    "<!--<center><img src=\"img/canon.png\" width=\"500px\" height=\"350px\"/></center>-->\n",
    "\n",
    "1. Cantidad de pólvora (con un máximo de 100grs).\n",
    "2. Ángulo de elevación del cañón.\n",
    "3. Ángulo de rotación del cañón.\n",
    "\n",
    "Éstas deberán ser ajustadas por el algoritmo de manera correcta de cara a conseguir hacer caer el proyectil lo más cerca posible de la posición del objetivo."
   ]
  },
  {
   "cell_type": "markdown",
   "metadata": {},
   "source": [
    "# 2. Codificación de las variables"
   ]
  },
  {
   "cell_type": "markdown",
   "metadata": {},
   "source": [
    "Como hemos visto anteriormente, el problema dispone de 3 variables:\n",
    "\n",
    "1. **Pólvora:** para realizar el disparo se dispone de un máximo de 100grs de pólvora para generar el impuslo inicial de la bala.\n",
    "2. **Ángulo de elevación:** se trata del ángulo respecto al plano horizontal. Será por tánto como máximo de 90º.\n",
    "3. **Ángulo de rotación:** ángulo necesario para apuntar hacia el objetivo, siendo el máximo de 360º.\n",
    "\n",
    "Todas las variables han sido homogeneizadas entre el intervalo \\[0, 1] para asegurar los bounds de todas ellas."
   ]
  },
  {
   "cell_type": "code",
   "execution_count": 1,
   "metadata": {},
   "outputs": [],
   "source": [
    "polvora   = (0,1)\n",
    "elevacion = (0,1)\n",
    "rotacion  = (0,1)\n",
    "\n",
    "mybounds  = [polvora, elevacion, rotacion]"
   ]
  },
  {
   "cell_type": "markdown",
   "metadata": {},
   "source": [
    "Además es necesario utilizar una variable que representará el punto P(x,z) del plano donde se encuentra nuestro objetivo:"
   ]
  },
  {
   "cell_type": "code",
   "execution_count": 2,
   "metadata": {},
   "outputs": [],
   "source": [
    "p_obj = (32, 19) # Coordenadas sobre el plano x,z del objetivo"
   ]
  },
  {
   "cell_type": "markdown",
   "metadata": {},
   "source": [
    "# 3. Función de fitness"
   ]
  },
  {
   "cell_type": "markdown",
   "metadata": {},
   "source": [
    "El problema por tanto debe tratar de minimizar la distancia entre la posición en el plano donde ha caído el proyectil y el objetivo.\n",
    "\n",
    "De esta manera se tiene la siguiente función de fitness:"
   ]
  },
  {
   "cell_type": "code",
   "execution_count": 3,
   "metadata": {},
   "outputs": [],
   "source": [
    "import math\n",
    "import numpy as np\n",
    "\n",
    "# Arrays auxiliares que almacenarán los puntos P(x,z) donde cae la bala\n",
    "X = []\n",
    "Z = []\n",
    "\n",
    "# Función auxiliar que calcula la distancia entre dos puntos en el plano\n",
    "def dist(p1, p2):\n",
    "    return math.sqrt(math.pow(p1[0] - p2[0],2) + math.pow(p1[1] - p2[1], 2))\n",
    "\n",
    "def fitness(variables):\n",
    "\n",
    "    g = 9.8         # Gravedad para la simulacion\n",
    "    m = 1000        # Masa de la bala del cañon\n",
    "    Ec_kg = 3000000 # Energía cinética por cada Kg de polvora\n",
    "\n",
    "    \n",
    "    gr_powder =  variables[0] * 100 # Gramos de pólvora que disponemos\n",
    "    angle_elev = variables[1] * 90  # Ángulo de elevación del cañón\n",
    "    angle_rot =  variables[2] * 360 # Ángulo de rotación\n",
    "\n",
    "    # Calculamos la energia cinética que se generaría con determinada cantidad de pólvora\n",
    "    Ec = (Ec_kg * gr_powder) / 1000\n",
    "    sqr_V0 = (2 * Ec) / m\n",
    "\n",
    "    # Calculamos la distancia máxima que recorrería la bala\n",
    "    recorrido = (sqr_V0 * math.sin(math.radians(2 * angle_elev))) / g\n",
    "\n",
    "    # Calculamos la distancia entre el punto donde ha caido la bala y nuestro objetivo\n",
    "    x = math.sin(math.radians(angle_rot)) * recorrido\n",
    "    z = math.cos(math.radians(angle_rot)) * recorrido\n",
    "    p_bala = (x, z)\n",
    "    \n",
    "    # Añadimos dichos puntos a los arrays para más adelante plotearlos\n",
    "    X.append(x)\n",
    "    Z.append(z)\n",
    "\n",
    "    return dist(p_obj, p_bala)"
   ]
  },
  {
   "cell_type": "markdown",
   "metadata": {},
   "source": [
    "# 4. Funcionamiento del problema"
   ]
  },
  {
   "cell_type": "markdown",
   "metadata": {},
   "source": [
    "Una vez se han definido las variables y la función de fitness, el Algoritmo Evolutivo tratará de minimizar la distancia entre la posición donde cae el proyectil y el objetivo. Para ello hemos decidido emplear nuestro propio algoritmo, el cual es llamado con nuestra función de fitness, las variables codificadas y una población de 20. El algoritmo hará 300 iteraciones:"
   ]
  },
  {
   "cell_type": "code",
   "execution_count": 4,
   "metadata": {
    "pycharm": {
     "is_executing": true
    }
   },
   "outputs": [],
   "source": [
    "import group06.EA as ea\n",
    "\n",
    "myea = ea.EA(fitness, mybounds, 20)\n",
    "myea.run(300)"
   ]
  },
  {
   "cell_type": "markdown",
   "metadata": {},
   "source": [
    "# 5. Solución del problema y conclusión"
   ]
  },
  {
   "cell_type": "markdown",
   "metadata": {},
   "source": [
    "Para visualizar mejor cómo se ha comportado nuestro algoritmo, hemos decidido imprimir sobre el plano x,z aquellas posiciones que nuestro algoritmo ha ido generando. A continuación se muestra el plano x,z con las posiciones generadas por el algoritmo de color azul, el cañón en la posición (0,0) de negro y la posición objetivo seleccionada en el problema de color rojo:"
   ]
  },
  {
   "cell_type": "code",
   "execution_count": 5,
   "metadata": {},
   "outputs": [
    {
     "data": {
      "image/png": "[encoded data removed]",
      "text/plain": [
       "<Figure size 432x288 with 1 Axes>"
      ]
     },
     "metadata": {
      "needs_background": "light"
     },
     "output_type": "display_data"
    }
   ],
   "source": [
    "import matplotlib.pyplot as plt\n",
    "\n",
    "plt.scatter(X,Z, marker='o', s = 10)\n",
    "plt.scatter(p_obj[0], p_obj[1], color = 'red', s = 10)\n",
    "plt.scatter(0,0, color = 'black', s = 15)\n",
    "plt.show()"
   ]
  },
  {
   "cell_type": "markdown",
   "metadata": {},
   "source": [
    "Seguidamente vamos a comprobar cual es la mejor de las posibilidades. Para ello llamamos al método best() de nuestro algoritmo, que nos devuelve por una parte la codificación de las variables y por la otra el fitness:"
   ]
  },
  {
   "cell_type": "code",
   "execution_count": 6,
   "metadata": {},
   "outputs": [],
   "source": [
    "solucion = myea.best()"
   ]
  },
  {
   "cell_type": "markdown",
   "metadata": {},
   "source": [
    "Finalmente podemos \"descodificar\" nuestras variables para conocer el valor real de las tres variables, junto a la distancia entre la posición final de la bala y el objetivo:"
   ]
  },
  {
   "cell_type": "code",
   "execution_count": 7,
   "metadata": {},
   "outputs": [
    {
     "name": "stdout",
     "output_type": "stream",
     "text": [
      "  Pólvora: 60.79 g\n",
      "Elevación: 45.28 º\n",
      " Rotación: 59.3 º\n",
      "\n",
      " Distancia: 0.002823 m\n"
     ]
    }
   ],
   "source": [
    "polvora     = solucion.solution[0] * 100\n",
    "angulo_elev = solucion.solution[1] * 90\n",
    "angulo_rot  = solucion.solution[2] * 360\n",
    "\n",
    "print(\"  Pólvora: \" + str(round(polvora, 2)) + \" g\")\n",
    "print(\"Elevación: \" + str(round(angulo_elev, 2)) + \" º\")\n",
    "print(\" Rotación: \" + str(round(angulo_rot, 2)) + \" º\")\n",
    "print(\"\\n Distancia: \" + str(round(solucion.fitnes, 6)) + \" m\")"
   ]
  },
  {
   "cell_type": "markdown",
   "metadata": {},
   "source": [
    "Como conclusión acerca del problema planteado, tal y como puede observarse en la solución proporcionada, no se trata de la mejor combinación posible entre las tres variables si se tiene en cuenta por ejemplo el tratar de ahorrar pólvora. Si aplicásemos esa restricción, el ángulo de elevación siempre sería de 45º puesto que es el ángulo con el que se consigue mayor distancia."
   ]
  }
 ],
 "metadata": {
  "kernelspec": {
   "display_name": "Python 3",
   "language": "python",
   "name": "python3"
  },
  "language_info": {
   "codemirror_mode": {
    "name": "ipython",
    "version": 3
   },
   "file_extension": ".py",
   "mimetype": "text/x-python",
   "name": "python",
   "nbconvert_exporter": "python",
   "pygments_lexer": "ipython3",
   "version": "3.9.0"
  }
 },
 "nbformat": 4,
 "nbformat_minor": 2
}
