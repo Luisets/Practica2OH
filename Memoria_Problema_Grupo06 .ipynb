{
 "metadata": {
  "language_info": {
   "codemirror_mode": {
    "name": "ipython",
    "version": 3
   },
   "file_extension": ".py",
   "mimetype": "text/x-python",
   "name": "python",
   "nbconvert_exporter": "python",
   "pygments_lexer": "ipython3",
   "version": "3.8.5-final"
  },
  "orig_nbformat": 2,
  "kernelspec": {
   "name": "python3",
   "display_name": "Python 3",
   "language": "python"
  }
 },
 "nbformat": 4,
 "nbformat_minor": 2,
 "cells": [
  {
   "source": [
    "# <center>Formulación de un problema de optimización (Grupo 06)</center>\n",
    "# <center>\"Trayectoria del disparo de un cañón con objetivo\"</center>\n"
   ],
   "cell_type": "markdown",
   "metadata": {}
  },
  {
   "source": [
    "# 0. Introducción"
   ],
   "cell_type": "markdown",
   "metadata": {}
  },
  {
   "source": [
    "Como parte de la segunda parte de la última práctica de la asignatura Optimización Heurística, se ha elaborado el presente Notebook como memoria de la realización del proyecto de la formulación de un problema de optimización. \n",
    "\n",
    "Para este segundo apartado se propone al grupo la formulación de un problema de la manera correcta para que pueda ser resuelto mediante el uso de algoritmos genéticos. Para ello será necesario cumplir los siguientes requisitos:\n",
    "\n",
    "- La función de fitness será programada desde cero.\n",
    "- Se deberá debatir los aspectos relacionados con el problema escogido (número de variables, alelos, operadores específicos...)\n"
   ],
   "cell_type": "markdown",
   "metadata": {}
  },
  {
   "source": [
    "De esta manera, hemos decidido dividir la presente memoria en los siguientes apartados:\n",
    "\n",
    "1. <b>Planteamiento del problema:</b> presentación del problema, descripción del mismo, variables a tener en cuenta, objetivo del problema.\n",
    "2. <b>Codificación de las variables:</b> forma en la que se han cofidicado las variables.\n",
    "3. <b>Función de fitness:</b> explicación de la función empleada.\n",
    "4. <b>Funcionamiento del problema:</b> implementación del algoritmo con el problema y ejemplo de resolución del problema.\n",
    "5. <b>Conclusión:</b> solución del problema, resultados obtenidos y comentarios finales."
   ],
   "cell_type": "markdown",
   "metadata": {}
  },
  {
   "source": [
    "# 1. Planteamiento del problema\n"
   ],
   "cell_type": "markdown",
   "metadata": {}
  },
  {
   "source": [
    "Se requiere diseñar un cañón capaz de disparar un proyectil para que se acerque lo máximo posible a un objetivo que se encuentre en el plano horizontal (en el suelo). Para ello el cañón dispondrá de las siguientes 3 variables:\n",
    "\n",
    "<!--<center><img src=\"img/canon.png\" width=\"500px\" height=\"350px\"/></center>-->\n",
    "\n",
    "1. Cantidad de pólvora (con un máximo de 100grs).\n",
    "2. Ángulo de elevación del cañón.\n",
    "3. Ángulo de rotación del cañón.\n",
    "\n",
    "Éstas deberán ser ajustadas correctamente de cara a conseguir hacer caer el proyectil sobre la posición del objetivo."
   ],
   "cell_type": "markdown",
   "metadata": {}
  },
  {
   "source": [
    "# 2. Codificación de las variables"
   ],
   "cell_type": "markdown",
   "metadata": {}
  },
  {
   "source": [
    "El problema dispone de 3 variables:\n",
    "\n",
    "1. **Pólvora:** para realizar el disparo se dispone de un máximo de 100grs de pólvora para generar el impuslo inicial de la bala.\n",
    "2. **Ángulo de elevación:** se trata del ángulo respecto al plano horizontal. Será por tánto como máximo de 90º.\n",
    "3. **Ángulo de rotación:** ángulo necesario para apuntar hacia el objetivo, siendo el máximo de 360º.\n",
    "\n",
    "Todas las variables han sido homogeneizadas entre el intervalo \\[0, 1] para asegurar los bounds de todas ellas."
   ],
   "cell_type": "markdown",
   "metadata": {}
  },
  {
   "cell_type": "code",
   "execution_count": 4,
   "metadata": {},
   "outputs": [],
   "source": [
    "polvora = (0,1)\n",
    "elevacion = (0,1)\n",
    "rotacion = (0,1)\n",
    "\n",
    "mybounds = [polvora, elevacion, rotacion]"
   ]
  },
  {
   "source": [
    "# 3. Función de fitness"
   ],
   "cell_type": "markdown",
   "metadata": {}
  },
  {
   "source": [
    "El problema por tanto debe tratar de minimizar la distancia entre la posición en el plano donde ha caído el proyectil y el objetivo.\n",
    "\n",
    "De esta manera se tiene la siguiente función de fitness:"
   ],
   "cell_type": "markdown",
   "metadata": {}
  },
  {
   "cell_type": "code",
   "execution_count": 5,
   "metadata": {},
   "outputs": [],
   "source": [
    "import benchmarks.functions as functions\n",
    "import group06.EA as ea\n",
    "import group06.Genome as genome\n",
    "import math\n",
    "\n",
    "# Función auxiliar que calcula la distancia entre dos puntos en el plano\n",
    "def dist(p1, p2):\n",
    "    return math.sqrt(math.pow(p1[0] - p2[0],2) + math.pow(p1[1] - p2[1], 2))\n",
    "\n",
    "def fitness(variables):\n",
    "\n",
    "    p_obj = (4, 9)  # Coordenadas del objetivo\n",
    "    g = 9.8         # Gravedad para la simulacion\n",
    "    m = 1000        # Masa de la bala de cañon\n",
    "    Ec_kg = 3000000 # Energía cinética por cada Kg de polvora\n",
    "\n",
    "    \n",
    "    gr_powder =  variables[0] * 100 # Gramos de pólvora que disponemos\n",
    "    angle_elev = variables[1] * 90  # Ángulo de elevación del cañón\n",
    "    angle_rot =  variables[2] * 360 # Ángulo de rotación\n",
    "\n",
    "    # Calculamos la energia cinética que se generaría con determinada cantidad de pólvora\n",
    "    Ec = (Ec_kg * gr_powder) / 1000\n",
    "    sqr_V0 = (2 * Ec) / m\n",
    "\n",
    "    # Calculamos la distancia máxima que recorrería la bala\n",
    "    recorrido = (sqr_V0 * math.sin(math.radians(2 * angle_elev))) / g\n",
    "\n",
    "    # Calculamos la distancia entre el punto donde ha caido la bala y nuestro objetivo\n",
    "    x = math.sin(math.radians(angle_rot)) * recorrido\n",
    "    z = math.cos(math.radians(angle_rot)) * recorrido\n",
    "    p_bala = (x, z)\n",
    "\n",
    "    return dist(p_obj, p_bala)"
   ]
  },
  {
   "source": [
    "# 4. Funcionamiento del problema"
   ],
   "cell_type": "markdown",
   "metadata": {}
  },
  {
   "cell_type": "code",
   "execution_count": 6,
   "metadata": {},
   "outputs": [
    {
     "output_type": "stream",
     "name": "stdout",
     "text": [
      "[0.16091451 0.49207841 0.06656247]\n2.8799573918150326e-08\n"
     ]
    }
   ],
   "source": [
    "myea = ea.EA(fitness, mybounds, 50)\n",
    "myea.run(1000)\n",
    "sol = myea.best()\n",
    "print(sol.solution)\n",
    "print(sol.fitnes)"
   ]
  },
  {
   "source": [
    "# 5. Conclusión"
   ],
   "cell_type": "markdown",
   "metadata": {}
  }
 ]
}