{
 "metadata": {
  "language_info": {
   "codemirror_mode": {
    "name": "ipython",
    "version": 3
   },
   "file_extension": ".py",
   "mimetype": "text/x-python",
   "name": "python",
   "nbconvert_exporter": "python",
   "pygments_lexer": "ipython3",
   "version": "3.8.5-final"
  },
  "orig_nbformat": 2,
  "kernelspec": {
   "name": "python3",
   "display_name": "Python 3",
   "language": "python"
  }
 },
 "nbformat": 4,
 "nbformat_minor": 2,
 "cells": [
  {
   "source": [
    "# Grupo06: Evaluación de algoritmos evolutivos"
   ],
   "cell_type": "markdown",
   "metadata": {}
  },
  {
   "source": [
    "## Introducción"
   ],
   "cell_type": "markdown",
   "metadata": {}
  },
  {
   "source": [
    "En el siguiente notebook se presenta la comparación entre un algoritmo implementado por nuestro grupo y los algoritmos de biblioteca, minimizando las funciones que se presentan en el benchmark. <br>\n",
    "<br>\n",
    "Asimismo, se recogerán los resultados y se compararan mediante test estadísticos no paramétricos."
   ],
   "cell_type": "markdown",
   "metadata": {}
  },
  {
   "source": [
    "Código de la función para llamar nuestro algoritmo"
   ],
   "cell_type": "markdown",
   "metadata": {}
  },
  {
   "cell_type": "code",
   "execution_count": 3,
   "metadata": {},
   "outputs": [],
   "source": [
    "from group06.EA import EA\n",
    "import numpy as np\n",
    "import scipy\n",
    "\n",
    "def ejecutarInterno(fun, reps, gens, poblacion):\n",
    "    bounds = [(-100, 100)] * 20\n",
    "    myea = EA(fun, bounds, poblacion)\n",
    "    res = []\n",
    "    for x in range(reps):\n",
    "        myea.run((gens + 1) * len(bounds) * poblacion)\n",
    "        bestSol = myea.best()\n",
    "        res.append(bestSol.getFitnes())\n",
    "    return res"
   ]
  },
  {
   "source": [
    "Código de la función para llamar al algoritmo diferencial de la biblioteca scipy"
   ],
   "cell_type": "markdown",
   "metadata": {}
  },
  {
   "cell_type": "code",
   "execution_count": 4,
   "metadata": {},
   "outputs": [],
   "source": [
    "from scipy.optimize import differential_evolution\n",
    "def ejecutarScipy(fun, reps, gens, poblacion):\n",
    "    bounds = [(-100, 100)] * 20\n",
    "    res = []\n",
    "    for x in range(reps):\n",
    "        sol = differential_evolution(fun, bounds, strategy=\"rand1exp\", popsize=poblacion, polish=True, maxiter=gens)\n",
    "        res.append(sol.fun)\n",
    "    return res"
   ]
  },
  {
   "source": [
    "Código de la función para llamar al algoritmo SADE de la biblioteca PyADE"
   ],
   "cell_type": "markdown",
   "metadata": {}
  },
  {
   "cell_type": "code",
   "execution_count": 5,
   "metadata": {},
   "outputs": [],
   "source": [
    "import pyade.sade as sade\n",
    "def ejecutarPyade(func, reps, gens, poblacion):\n",
    "    bounds = [(-100, 100)] * 20    \n",
    "    params = sade.get_default_params(dim=len(bounds))\n",
    "    params['bounds'         ] = np.array(bounds)\n",
    "    params['max_evals'      ] = (gens + 1) * len(bounds) * poblacion\n",
    "    params['population_size'] = poblacion\n",
    "    params['func'           ] = func\n",
    "    results = []\n",
    "\n",
    "    for i in range(reps):\n",
    "        _, fitness = sade.apply(**params)\n",
    "        results.append(fitness)\n",
    "\n",
    "    return results"
   ]
  },
  {
   "source": [
    "Código de la función para mostrar con formato los fitness obtenidos por los algoritmos"
   ],
   "cell_type": "markdown",
   "metadata": {}
  },
  {
   "cell_type": "code",
   "execution_count": 6,
   "metadata": {},
   "outputs": [],
   "source": [
    "def cutePrint(vals):\n",
    "    print(\"iter{}fitness\".format(\"\".ljust(3)))\n",
    "    i = 1\n",
    "    for fitnes in sol:\n",
    "        print(\"{}{}{}\".format(str(i).rjust(4), \"\".ljust(3), format(fitnes)))\n",
    "        i+=1"
   ]
  },
  {
   "source": [
    "Código de la función para mostrar los datos estadisticos"
   ],
   "cell_type": "markdown",
   "metadata": {}
  },
  {
   "cell_type": "code",
   "execution_count": 7,
   "metadata": {},
   "outputs": [],
   "source": [
    "import numpy as np\n",
    "def statistics(values):\n",
    "    print(\"\\nEstadisticas\")\n",
    "    print(\"avg:{}{}\".format(\"\".ljust(3), np.average(values)))\n",
    "    print(\"med:{}{}\".format(\"\".ljust(3), np.median(values)))\n",
    "    print(\"std:{}{}\".format(\"\".ljust(3), np.std(values)))\n",
    "    print(\"min:{}{}\".format(\"\".ljust(3), np.min(values)))\n",
    "    print(\"max:{}{}\".format(\"\".ljust(3), np.max(values)))\n",
    "    pass\n",
    "\n"
   ]
  },
  {
   "source": [
    "Se definen las siguientes variables para almacenar los resultados obtenidos por los algoritmos respectivamente"
   ],
   "cell_type": "markdown",
   "metadata": {}
  },
  {
   "cell_type": "code",
   "execution_count": 8,
   "metadata": {},
   "outputs": [],
   "source": [
    "algPropio = {}\n",
    "algScipy = {}\n",
    "algSade = {}\n"
   ]
  },
  {
   "source": [
    "Para comparar los resultados de una más equilibrada se han definido los siguientes valores: <br>\n",
    "                1. Población: 10 individuos <br>\n",
    "                2. Generaciones por población: (gens + 1) * len(bounds) * poblacion<br>\n",
    "                3. Bounds: de -100 a 100 con 20 variables <br>          \n",
    "                4. Iteraciones: 10 <br>"
   ],
   "cell_type": "markdown",
   "metadata": {}
  },
  {
   "source": [
    "## Función Sphere"
   ],
   "cell_type": "markdown",
   "metadata": {}
  },
  {
   "source": [
    "Minimización de la función mediante el algoritmo propio"
   ],
   "cell_type": "markdown",
   "metadata": {}
  },
  {
   "cell_type": "code",
   "execution_count": 9,
   "metadata": {},
   "outputs": [
    {
     "output_type": "stream",
     "name": "stdout",
     "text": [
      "iter   fitness\n   1   0.0\n   2   0.0\n   3   0.0\n   4   0.0\n   5   0.0\n   6   0.0\n   7   0.0\n   8   0.0\n   9   0.0\n  10   0.0\n\nEstadisticas\navg:   0.0\nmed:   0.0\nstd:   0.0\nmin:   0.0\nmax:   0.0\n"
     ]
    }
   ],
   "source": [
    "import benchmarks.functions as functions\n",
    "sol = ejecutarInterno(functions.sphere, 10, 20, 10)\n",
    "algPropio[\"sphere\"] = sol\n",
    "cutePrint(sol)\n",
    "statistics(sol)"
   ]
  },
  {
   "source": [
    "Minimización de la función mediante el algoritmo diferencial de la biblioteca scipy"
   ],
   "cell_type": "markdown",
   "metadata": {}
  },
  {
   "cell_type": "code",
   "execution_count": 10,
   "metadata": {},
   "outputs": [
    {
     "output_type": "stream",
     "name": "stdout",
     "text": [
      "iter   fitness\n   1   0.0\n   2   0.0\n   3   0.0\n   4   0.0\n   5   0.0\n   6   0.0\n   7   0.0\n   8   0.0\n   9   0.0\n  10   0.0\n\nEstadisticas\navg:   0.0\nmed:   0.0\nstd:   0.0\nmin:   0.0\nmax:   0.0\n"
     ]
    }
   ],
   "source": [
    "import benchmarks.functions as functions\n",
    "sol = ejecutarScipy(functions.sphere, 10, 20, 10)\n",
    "algScipy[\"sphere\"] = sol\n",
    "cutePrint(sol)\n",
    "statistics(sol)"
   ]
  },
  {
   "source": [
    "Minimización de la función mediante el algoritmo de SADE"
   ],
   "cell_type": "markdown",
   "metadata": {}
  },
  {
   "cell_type": "code",
   "execution_count": 11,
   "metadata": {},
   "outputs": [
    {
     "output_type": "stream",
     "name": "stdout",
     "text": [
      "iter   fitness\n   1   0.022393824279977582\n   2   7.341545686247525e-27\n   3   0.013781758882248451\n   4   0.004065171921165587\n   5   4.362492821946965e-06\n   6   1.0755198518575622e-06\n   7   0.004603931692099541\n   8   0.022764388405943015\n   9   4.1864660921065514e-05\n  10   0.0\n\nEstadisticas\navg:   0.006765637785502904\nmed:   0.002053518291043326\nstd:   0.008886071457249295\nmin:   0.0\nmax:   0.022764388405943015\n"
     ]
    }
   ],
   "source": [
    "import benchmarks.functions as functions\n",
    "sol = ejecutarPyade(functions.sphere, 10, 20, 10)\n",
    "algSade[\"sphere\"] = sol\n",
    "cutePrint(sol)\n",
    "statistics(sol)"
   ]
  },
  {
   "source": [
    "## Función Ackley"
   ],
   "cell_type": "markdown",
   "metadata": {}
  },
  {
   "source": [
    "Minimización de la función mediante el algoritmo propio"
   ],
   "cell_type": "markdown",
   "metadata": {}
  },
  {
   "cell_type": "code",
   "execution_count": 12,
   "metadata": {},
   "outputs": [
    {
     "output_type": "stream",
     "name": "stdout",
     "text": [
      "iter   fitness\n   1   4.440892098500626e-16\n   2   4.440892098500626e-16\n   3   4.440892098500626e-16\n   4   4.440892098500626e-16\n   5   4.440892098500626e-16\n   6   4.440892098500626e-16\n   7   4.440892098500626e-16\n   8   4.440892098500626e-16\n   9   4.440892098500626e-16\n  10   4.440892098500626e-16\n\nEstadisticas\navg:   4.440892098500626e-16\nmed:   4.440892098500626e-16\nstd:   0.0\nmin:   4.440892098500626e-16\nmax:   4.440892098500626e-16\n"
     ]
    }
   ],
   "source": [
    "import benchmarks.functions as functions\n",
    "sol = ejecutarInterno(functions.ackley, 10, 20, 10)\n",
    "algPropio[\"ackley\"] = sol\n",
    "cutePrint(sol)\n",
    "statistics(sol)"
   ]
  },
  {
   "source": [
    "Minimización de la función mediante el algoritmo diferencial de la biblioteca scipy"
   ],
   "cell_type": "markdown",
   "metadata": {}
  },
  {
   "cell_type": "code",
   "execution_count": 13,
   "metadata": {},
   "outputs": [
    {
     "output_type": "stream",
     "name": "stdout",
     "text": [
      "iter   fitness\n   1   9.904777210689367\n   2   8.90815048378838\n   3   9.14545474250344\n   4   9.180790066426427\n   5   8.12401228375021\n   6   8.055211104888365\n   7   8.409485315745204\n   8   9.03760418538118\n   9   8.982632750466632\n  10   8.388191557821036\n\nEstadisticas\navg:   8.813630970146024\nmed:   8.945391617127505\nstd:   0.5402110241065567\nmin:   8.055211104888365\nmax:   9.904777210689367\n"
     ]
    }
   ],
   "source": [
    "import benchmarks.functions as functions\n",
    "sol = ejecutarScipy(functions.ackley, 10, 20, 10)\n",
    "algScipy[\"ackley\"] = sol\n",
    "cutePrint(sol)\n",
    "statistics(sol)"
   ]
  },
  {
   "source": [
    "Minimización de la función mediante el algoritmo de SADE"
   ],
   "cell_type": "markdown",
   "metadata": {}
  },
  {
   "cell_type": "code",
   "execution_count": 14,
   "metadata": {},
   "outputs": [
    {
     "output_type": "stream",
     "name": "stdout",
     "text": [
      "iter   fitness\n   1   4.440892098500626e-16\n   2   0.0006509634403681908\n   3   0.030599434050597285\n   4   0.006035267981058912\n   5   0.14263361112549022\n   6   0.0007594122509826384\n   7   0.03773881096866605\n   8   4.945236398201658e-05\n   9   4.440892098500626e-16\n  10   0.017587822835683387\n\nEstadisticas\navg:   0.02360547750168296\nmed:   0.003397340116020775\nstd:   0.04180844823361069\nmin:   4.440892098500626e-16\nmax:   0.14263361112549022\n"
     ]
    }
   ],
   "source": [
    "import benchmarks.functions as functions\n",
    "sol = ejecutarPyade(functions.ackley, 10, 20, 10)\n",
    "algSade[\"ackley\"] = sol\n",
    "cutePrint(sol)\n",
    "statistics(sol)"
   ]
  },
  {
   "source": [
    "## Función Rosenbrock"
   ],
   "cell_type": "markdown",
   "metadata": {}
  },
  {
   "source": [
    "Minimización de la función mediante el algoritmo propio"
   ],
   "cell_type": "markdown",
   "metadata": {}
  },
  {
   "cell_type": "code",
   "execution_count": 15,
   "metadata": {},
   "outputs": [
    {
     "output_type": "stream",
     "name": "stdout",
     "text": [
      "iter   fitness\n   1   0.0\n   2   0.0\n   3   3.4044928576708724\n   4   9.447688632391977e-07\n   5   0.0\n   6   0.0\n   7   1.7647108988322286\n   8   0.0\n   9   0.7196898891488892\n  10   0.0\n\nEstadisticas\navg:   0.5888894590420853\nmed:   0.0\nstd:   1.0841965578816632\nmin:   0.0\nmax:   3.4044928576708724\n"
     ]
    }
   ],
   "source": [
    "import benchmarks.functions as functions\n",
    "sol = ejecutarInterno(functions.rosenbrock, 10, 20, 10)\n",
    "algPropio[\"rosenbrock\"] = sol\n",
    "cutePrint(sol)\n",
    "statistics(sol)"
   ]
  },
  {
   "source": [
    "Minimización de la función mediante el algoritmo diferencial de la biblioteca scipy"
   ],
   "cell_type": "markdown",
   "metadata": {}
  },
  {
   "cell_type": "code",
   "execution_count": 16,
   "metadata": {},
   "outputs": [
    {
     "output_type": "stream",
     "name": "stdout",
     "text": [
      "iter   fitness\n   1   1.0688094423154778e-10\n   2   2.5336751318066964e-09\n   3   2.841311569142258e-10\n   4   9.036009489564198e-10\n   5   9.169477443813673e-11\n   6   1.7879844985638688e-10\n   7   8.03793615215153e-11\n   8   4.111074183538894e-10\n   9   6.478159384454236e-10\n  10   6.74538508257694e-10\n\nEstadisticas\navg:   5.912622632781935e-10\nmed:   3.476192876340576e-10\nstd:   7.016240030837243e-10\nmin:   8.03793615215153e-11\nmax:   2.5336751318066964e-09\n"
     ]
    }
   ],
   "source": [
    "import benchmarks.functions as functions\n",
    "sol = ejecutarScipy(functions.rosenbrock, 10, 20, 10)\n",
    "cutePrint(sol)\n",
    "algScipy[\"rosenbrock\"] = sol\n",
    "statistics(sol)"
   ]
  },
  {
   "source": [
    "Minimización de la función mediante el algoritmo de SADE"
   ],
   "cell_type": "markdown",
   "metadata": {}
  },
  {
   "cell_type": "code",
   "execution_count": 17,
   "metadata": {},
   "outputs": [
    {
     "output_type": "stream",
     "name": "stdout",
     "text": [
      "iter   fitness\n   1   11.201760409794304\n   2   5.841965345837097\n   3   16.715944673219067\n   4   0.17897717723798248\n   5   18.473650267044736\n   6   11.214679246472606\n   7   5.442060509178185\n   8   0.3581549077595495\n   9   13.280969447118094\n  10   25.7674513910445\n\nEstadisticas\navg:   10.847561337470612\nmed:   11.208219828133455\nstd:   7.742749820222769\nmin:   0.17897717723798248\nmax:   25.7674513910445\n"
     ]
    }
   ],
   "source": [
    "import benchmarks.functions as functions\n",
    "sol = ejecutarPyade(functions.rosenbrock, 10, 20, 10)\n",
    "algSade[\"rosenbrock\"] = sol\n",
    "cutePrint(sol)\n",
    "statistics(sol)"
   ]
  },
  {
   "source": [
    "## Función Rastrigin"
   ],
   "cell_type": "markdown",
   "metadata": {}
  },
  {
   "source": [
    "Minimización de la función mediante el algoritmo propio"
   ],
   "cell_type": "markdown",
   "metadata": {}
  },
  {
   "cell_type": "code",
   "execution_count": 18,
   "metadata": {},
   "outputs": [
    {
     "output_type": "stream",
     "name": "stdout",
     "text": [
      "iter   fitness\n   1   0.0\n   2   0.0\n   3   0.0\n   4   3.979831190554086\n   5   0.0\n   6   0.0\n   7   0.0\n   8   0.0\n   9   0.0\n  10   0.0\n\nEstadisticas\navg:   0.3979831190554086\nmed:   0.0\nstd:   1.1939493571662259\nmin:   0.0\nmax:   3.979831190554086\n"
     ]
    }
   ],
   "source": [
    "import benchmarks.functions as functions\n",
    "sol = ejecutarInterno(functions.rastrigin, 10, 20, 10)\n",
    "algPropio[\"rastrigin\"] = sol\n",
    "cutePrint(sol)\n",
    "statistics(sol)"
   ]
  },
  {
   "source": [
    "Minimización de la función mediante el algoritmo diferencial de la biblioteca scipy"
   ],
   "cell_type": "markdown",
   "metadata": {}
  },
  {
   "cell_type": "code",
   "execution_count": 19,
   "metadata": {},
   "outputs": [
    {
     "output_type": "stream",
     "name": "stdout",
     "text": [
      "iter   fitness\n   1   214.90878080154368\n   2   220.87779187624184\n   3   248.73657977873245\n   4   227.8435632941627\n   5   276.5947432630736\n   6   193.0204442269964\n   7   207.94483702364766\n   8   170.1360644062899\n   9   166.15713002583672\n  10   238.78768532795095\n\nEstadisticas\navg:   216.50076200244763\nmed:   217.89328633889278\nstd:   32.567144574612676\nmin:   166.15713002583672\nmax:   276.5947432630736\n"
     ]
    }
   ],
   "source": [
    "import benchmarks.functions as functions\n",
    "sol = ejecutarScipy(functions.rastrigin, 10, 20, 10)\n",
    "cutePrint(sol)\n",
    "algScipy[\"rastrigin\"] = sol\n",
    "statistics(sol)"
   ]
  },
  {
   "source": [
    "Minimización de la función mediante el algoritmo de SADE"
   ],
   "cell_type": "markdown",
   "metadata": {}
  },
  {
   "cell_type": "code",
   "execution_count": 20,
   "metadata": {},
   "outputs": [
    {
     "output_type": "stream",
     "name": "stdout",
     "text": [
      "iter   fitness\n   1   0.0\n   2   0.0\n   3   0.0002059936664728923\n   4   0.0\n   5   0.9949590570932898\n   6   5.8022170449589794e-05\n   7   0.0\n   8   1.0367439633672983\n   9   0.0\n  10   0.12488544265220902\n\nEstadisticas\navg:   0.21568524789497195\nmed:   2.9011085224794897e-05\nstd:   0.4018926136248025\nmin:   0.0\nmax:   1.0367439633672983\n"
     ]
    }
   ],
   "source": [
    "import benchmarks.functions as functions\n",
    "sol = ejecutarPyade(functions.rastrigin, 10, 20, 10)\n",
    "algSade[\"rastrigin\"] = sol\n",
    "cutePrint(sol)\n",
    "statistics(sol)"
   ]
  },
  {
   "source": [
    "## Función Griewank"
   ],
   "cell_type": "markdown",
   "metadata": {}
  },
  {
   "source": [
    "Minimización de la función mediante el algoritmo propio"
   ],
   "cell_type": "markdown",
   "metadata": {}
  },
  {
   "cell_type": "code",
   "execution_count": 21,
   "metadata": {},
   "outputs": [
    {
     "output_type": "stream",
     "name": "stdout",
     "text": [
      "iter   fitness\n   1   1.0\n   2   1.0\n   3   1.0\n   4   1.0\n   5   1.0\n   6   1.0\n   7   1.0\n   8   1.0\n   9   1.0\n  10   1.0\n\nEstadisticas\navg:   1.0\nmed:   1.0\nstd:   0.0\nmin:   1.0\nmax:   1.0\n"
     ]
    }
   ],
   "source": [
    "import benchmarks.functions as functions\n",
    "sol = ejecutarInterno(functions.griewank, 10, 20, 10)\n",
    "algPropio[\"griewank\"] = sol\n",
    "cutePrint(sol)\n",
    "statistics(sol)"
   ]
  },
  {
   "source": [
    "Minimización de la función mediante el algoritmo diferencial de la biblioteca scipy"
   ],
   "cell_type": "markdown",
   "metadata": {}
  },
  {
   "cell_type": "code",
   "execution_count": 22,
   "metadata": {},
   "outputs": [
    {
     "output_type": "stream",
     "name": "stdout",
     "text": [
      "iter   fitness\n   1   1.0000000000000582\n   2   1.0000000000022493\n   3   1.0\n   4   1.0000000000165576\n   5   1.000000000006265\n   6   1.000000000003378\n   7   1.0000000000010345\n   8   1.0000000000014135\n   9   1.0000000000021165\n  10   1.000000000000122\n\nEstadisticas\navg:   1.0000000000033196\nmed:   1.000000000001765\nstd:   4.767117226453213e-12\nmin:   1.0\nmax:   1.0000000000165576\n"
     ]
    }
   ],
   "source": [
    "import benchmarks.functions as functions\n",
    "sol = ejecutarScipy(functions.griewank, 10, 20, 10)\n",
    "cutePrint(sol)\n",
    "algScipy[\"griewank\"] = sol\n",
    "statistics(sol)"
   ]
  },
  {
   "source": [
    "Minimización de la función mediante el algoritmo de SADE"
   ],
   "cell_type": "markdown",
   "metadata": {}
  },
  {
   "cell_type": "code",
   "execution_count": 23,
   "metadata": {},
   "outputs": [
    {
     "output_type": "stream",
     "name": "stdout",
     "text": [
      "iter   fitness\n   1   1.0000000150831723\n   2   1.0\n   3   1.0000000002377958\n   4   1.0\n   5   1.0000000000000009\n   6   1.0000000002226723\n   7   1.0000001891183692\n   8   1.0000000000000222\n   9   1.0000001637690754\n  10   1.000000000000227\n\nEstadisticas\navg:   1.0000000368431334\nmed:   1.0000000001114495\nstd:   7.017087072286607e-08\nmin:   1.0\nmax:   1.0000001891183692\n"
     ]
    }
   ],
   "source": [
    "import benchmarks.functions as functions\n",
    "sol = ejecutarPyade(functions.griewank, 10, 20, 10)\n",
    "algSade[\"griewank\"] = sol\n",
    "cutePrint(sol)\n",
    "statistics(sol)"
   ]
  },
  {
   "source": [
    "## Función Schwefel_2_21"
   ],
   "cell_type": "markdown",
   "metadata": {}
  },
  {
   "source": [
    "Minimización de la función mediante el algoritmo propio"
   ],
   "cell_type": "markdown",
   "metadata": {}
  },
  {
   "cell_type": "code",
   "execution_count": 24,
   "metadata": {},
   "outputs": [
    {
     "output_type": "stream",
     "name": "stdout",
     "text": [
      "iter   fitness\n   1   0.0\n   2   0.0\n   3   0.0\n   4   0.04599004174637496\n   5   0.0\n   6   0.0\n   7   0.0\n   8   0.004210605118076738\n   9   0.0\n  10   0.0\n\nEstadisticas\navg:   0.005020064686445169\nmed:   0.0\nstd:   0.013714235818056895\nmin:   0.0\nmax:   0.04599004174637496\n"
     ]
    }
   ],
   "source": [
    "import benchmarks.functions as functions\n",
    "sol = ejecutarInterno(functions.schwefel_2_21, 10, 20, 10)\n",
    "algPropio[\"schwefel_2_21\"] = sol\n",
    "cutePrint(sol)\n",
    "statistics(sol)"
   ]
  },
  {
   "source": [
    "Minimización de la función mediante el algoritmo diferencial de la biblioteca scipy"
   ],
   "cell_type": "markdown",
   "metadata": {}
  },
  {
   "cell_type": "code",
   "execution_count": 25,
   "metadata": {},
   "outputs": [
    {
     "output_type": "stream",
     "name": "stdout",
     "text": [
      "iter   fitness\n   1   0.0\n   2   0.0\n   3   0.0\n   4   0.0\n   5   0.0\n   6   0.0\n   7   0.0\n   8   0.0\n   9   0.0\n  10   0.0\n\nEstadisticas\navg:   0.0\nmed:   0.0\nstd:   0.0\nmin:   0.0\nmax:   0.0\n"
     ]
    }
   ],
   "source": [
    "import benchmarks.functions as functions\n",
    "sol = ejecutarScipy(functions.schwefel_2_21, 10, 20, 10)\n",
    "cutePrint(sol)\n",
    "algScipy[\"schwefel_2_21\"] = sol\n",
    "statistics(sol)"
   ]
  },
  {
   "source": [
    "Minimización de la función mediante el algoritmo de SADE"
   ],
   "cell_type": "markdown",
   "metadata": {}
  },
  {
   "cell_type": "code",
   "execution_count": 26,
   "metadata": {},
   "outputs": [
    {
     "output_type": "stream",
     "name": "stdout",
     "text": [
      "iter   fitness\n   1   0.26548812306419806\n   2   0.3248935444242897\n   3   0.32910693150422876\n   4   0.4085173331878615\n   5   0.3784838967544937\n   6   0.2540092178506663\n   7   0.26153489686000764\n   8   0.28957818467670166\n   9   0.2178233659616793\n  10   0.35710595534554707\n\nEstadisticas\navg:   0.30865414496296734\nmed:   0.3072358645504957\nstd:   0.05793287738539238\nmin:   0.2178233659616793\nmax:   0.4085173331878615\n"
     ]
    }
   ],
   "source": [
    "import benchmarks.functions as functions\n",
    "sol = ejecutarPyade(functions.schwefel_2_21, 10, 20, 10)\n",
    "algSade[\"schwefel_2_21\"] = sol\n",
    "cutePrint(sol)\n",
    "statistics(sol)"
   ]
  },
  {
   "source": [
    "## Función Schwefel_2_22"
   ],
   "cell_type": "markdown",
   "metadata": {}
  },
  {
   "source": [
    "Minimización de la función mediante el algoritmo propio"
   ],
   "cell_type": "markdown",
   "metadata": {}
  },
  {
   "cell_type": "code",
   "execution_count": 27,
   "metadata": {},
   "outputs": [
    {
     "output_type": "stream",
     "name": "stdout",
     "text": [
      "iter   fitness\n   1   0.0\n   2   0.0\n   3   0.0\n   4   0.0\n   5   0.0\n   6   0.0\n   7   0.0\n   8   0.0\n   9   0.0\n  10   0.0\n\nEstadisticas\navg:   0.0\nmed:   0.0\nstd:   0.0\nmin:   0.0\nmax:   0.0\n"
     ]
    }
   ],
   "source": [
    "import benchmarks.functions as functions\n",
    "sol = ejecutarInterno(functions.schwefel_2_22, 10, 20, 10)\n",
    "algPropio[\"schwefel_2_22\"] = sol\n",
    "cutePrint(sol)\n",
    "statistics(sol)"
   ]
  },
  {
   "source": [
    "Minimización de la función mediante el algoritmo diferencial de la biblioteca scipy"
   ],
   "cell_type": "markdown",
   "metadata": {}
  },
  {
   "cell_type": "code",
   "execution_count": 28,
   "metadata": {},
   "outputs": [
    {
     "output_type": "stream",
     "name": "stdout",
     "text": [
      "iter   fitness\n   1   0.0\n   2   0.0\n   3   0.0\n   4   0.0\n   5   0.0\n   6   0.0\n   7   0.0\n   8   0.0\n   9   0.0\n  10   0.0\n\nEstadisticas\navg:   0.0\nmed:   0.0\nstd:   0.0\nmin:   0.0\nmax:   0.0\n"
     ]
    }
   ],
   "source": [
    "import benchmarks.functions as functions\n",
    "sol = ejecutarScipy(functions.schwefel_2_22, 10, 20, 10)\n",
    "cutePrint(sol)\n",
    "algScipy[\"schwefel_2_22\"] = sol\n",
    "statistics(sol)"
   ]
  },
  {
   "source": [
    "Minimización de la función mediante el algoritmo de SADE"
   ],
   "cell_type": "markdown",
   "metadata": {}
  },
  {
   "cell_type": "code",
   "execution_count": 29,
   "metadata": {},
   "outputs": [
    {
     "output_type": "stream",
     "name": "stdout",
     "text": [
      "iter   fitness\n   1   1.3713652328047514e-07\n   2   0.0011866111415751535\n   3   0.03449601160669671\n   4   0.0\n   5   0.08053414268794117\n   6   0.008567177480317177\n   7   0.0\n   8   0.0030892679686823073\n   9   0.06669429456787304\n  10   0.0\n\nEstadisticas\navg:   0.019456764258960882\nmed:   0.0021379395551287305\nstd:   0.02902161828956332\nmin:   0.0\nmax:   0.08053414268794117\n"
     ]
    }
   ],
   "source": [
    "import benchmarks.functions as functions\n",
    "sol = ejecutarPyade(functions.schwefel_2_22, 10, 20, 10)\n",
    "algSade[\"schwefel_2_22\"] = sol\n",
    "cutePrint(sol)\n",
    "statistics(sol)"
   ]
  },
  {
   "source": [
    "## Función Schwefel_1_2"
   ],
   "cell_type": "markdown",
   "metadata": {}
  },
  {
   "source": [
    "Minimización de la función mediante el algoritmo propio"
   ],
   "cell_type": "markdown",
   "metadata": {}
  },
  {
   "cell_type": "code",
   "execution_count": 30,
   "metadata": {},
   "outputs": [
    {
     "output_type": "stream",
     "name": "stdout",
     "text": [
      "iter   fitness\n   1   0.0\n   2   0.0\n   3   0.0\n   4   0.0\n   5   0.0\n   6   0.0\n   7   0.0\n   8   0.0\n   9   0.0\n  10   0.0\n\nEstadisticas\navg:   0.0\nmed:   0.0\nstd:   0.0\nmin:   0.0\nmax:   0.0\n"
     ]
    }
   ],
   "source": [
    "import benchmarks.functions as functions\n",
    "sol = ejecutarInterno(functions.schwefel_1_2, 10, 20, 10)\n",
    "algPropio[\"schwefel_1_2\"] = sol\n",
    "cutePrint(sol)\n",
    "statistics(sol)"
   ]
  },
  {
   "source": [
    "Minimización de la función mediante el algoritmo diferencial de la biblioteca scipy"
   ],
   "cell_type": "markdown",
   "metadata": {}
  },
  {
   "cell_type": "code",
   "execution_count": 31,
   "metadata": {},
   "outputs": [
    {
     "output_type": "stream",
     "name": "stdout",
     "text": [
      "iter   fitness\n   1   0.0\n   2   0.0\n   3   0.0\n   4   0.0\n   5   0.0\n   6   0.0\n   7   0.0\n   8   0.0\n   9   0.0\n  10   0.0\n\nEstadisticas\navg:   0.0\nmed:   0.0\nstd:   0.0\nmin:   0.0\nmax:   0.0\n"
     ]
    }
   ],
   "source": [
    "import benchmarks.functions as functions\n",
    "sol = ejecutarScipy(functions.schwefel_1_2, 10, 20, 10)\n",
    "cutePrint(sol)\n",
    "algScipy[\"schwefel_1_2\"] = sol\n",
    "statistics(sol)"
   ]
  },
  {
   "source": [
    "Minimización de la función mediante el algoritmo de SADE"
   ],
   "cell_type": "markdown",
   "metadata": {}
  },
  {
   "cell_type": "code",
   "execution_count": 32,
   "metadata": {},
   "outputs": [
    {
     "output_type": "stream",
     "name": "stdout",
     "text": [
      "iter   fitness\n   1   0.016499280264485845\n   2   0.41194114000907844\n   3   8.905763386252572e-05\n   4   0.0\n   5   0.099972156339809\n   6   0.0\n   7   0.004406496153469919\n   8   0.0\n   9   0.0\n  10   0.0\n\nEstadisticas\navg:   0.05329081304007057\nmed:   4.452881693126286e-05\nstd:   0.1231188363815024\nmin:   0.0\nmax:   0.41194114000907844\n"
     ]
    }
   ],
   "source": [
    "import benchmarks.functions as functions\n",
    "sol = ejecutarPyade(functions.schwefel_1_2, 10, 20, 10)\n",
    "algSade[\"schwefel_1_2\"] = sol\n",
    "cutePrint(sol)\n",
    "statistics(sol)"
   ]
  },
  {
   "source": [
    "## Función Extended_f_10"
   ],
   "cell_type": "markdown",
   "metadata": {}
  },
  {
   "source": [
    "Minimización de la función mediante el algoritmo propio"
   ],
   "cell_type": "markdown",
   "metadata": {}
  },
  {
   "cell_type": "code",
   "execution_count": 33,
   "metadata": {},
   "outputs": [
    {
     "output_type": "stream",
     "name": "stdout",
     "text": [
      "iter   fitness\n   1   0.0\n   2   0.0\n   3   0.0\n   4   0.0\n   5   0.0\n   6   0.0\n   7   0.0\n   8   0.0\n   9   0.0\n  10   0.0\n\nEstadisticas\navg:   0.0\nmed:   0.0\nstd:   0.0\nmin:   0.0\nmax:   0.0\n"
     ]
    }
   ],
   "source": [
    "import benchmarks.functions as functions\n",
    "sol = ejecutarInterno(functions.extended_f_10, 10, 20, 10)\n",
    "algPropio[\"extended_f_10\"] = sol\n",
    "cutePrint(sol)\n",
    "statistics(sol)"
   ]
  },
  {
   "source": [
    "Minimización de la función mediante el algoritmo diferencial de la biblioteca scipy"
   ],
   "cell_type": "markdown",
   "metadata": {}
  },
  {
   "cell_type": "code",
   "execution_count": 34,
   "metadata": {},
   "outputs": [
    {
     "output_type": "stream",
     "name": "stdout",
     "text": [
      "iter   fitness\n   1   41.05681937852849\n   2   39.189519439792576\n   3   37.2510981970889\n   4   36.335421434058624\n   5   38.99906973581811\n   6   45.89700484286926\n   7   39.58120609320852\n   8   9.579602129802376\n   9   39.089557933289925\n  10   13.616594014444766\n\nEstadisticas\navg:   34.05958931989015\nmed:   39.04431383455402\nstd:   11.524496046358022\nmin:   9.579602129802376\nmax:   45.89700484286926\n"
     ]
    }
   ],
   "source": [
    "import benchmarks.functions as functions\n",
    "sol = ejecutarScipy(functions.extended_f_10, 10, 20, 10)\n",
    "cutePrint(sol)\n",
    "algScipy[\"extended_f_10\"] = sol\n",
    "statistics(sol)"
   ]
  },
  {
   "source": [
    "Minimización de la función mediante el algoritmo de SADE"
   ],
   "cell_type": "markdown",
   "metadata": {}
  },
  {
   "cell_type": "code",
   "execution_count": 35,
   "metadata": {},
   "outputs": [
    {
     "output_type": "stream",
     "name": "stdout",
     "text": [
      "iter   fitness\n   1   0.0\n   2   0.0\n   3   0.0\n   4   0.06269897462255551\n   5   0.2836859863919403\n   6   0.0\n   7   0.47999242504805134\n   8   0.0\n   9   0.0\n  10   0.0\n\nEstadisticas\navg:   0.08263773860625472\nmed:   0.0\nstd:   0.15700690111515492\nmin:   0.0\nmax:   0.47999242504805134\n"
     ]
    }
   ],
   "source": [
    "import benchmarks.functions as functions\n",
    "sol = ejecutarPyade(functions.extended_f_10, 10, 20, 10)\n",
    "algSade[\"extended_f_10\"] = sol\n",
    "cutePrint(sol)\n",
    "statistics(sol)"
   ]
  },
  {
   "source": [
    "## Función Bohachevsky"
   ],
   "cell_type": "markdown",
   "metadata": {}
  },
  {
   "source": [
    "Minimización de la función mediante el algoritmo propio"
   ],
   "cell_type": "markdown",
   "metadata": {}
  },
  {
   "cell_type": "code",
   "execution_count": 36,
   "metadata": {},
   "outputs": [
    {
     "output_type": "stream",
     "name": "stdout",
     "text": [
      "iter   fitness\n   1   0.0\n   2   0.0\n   3   0.0\n   4   0.0\n   5   0.0\n   6   0.0\n   7   0.0\n   8   0.0\n   9   0.0\n  10   0.0\n\nEstadisticas\navg:   0.0\nmed:   0.0\nstd:   0.0\nmin:   0.0\nmax:   0.0\n"
     ]
    }
   ],
   "source": [
    "import benchmarks.functions as functions\n",
    "sol = ejecutarInterno(functions.bohachevsky, 10, 20, 10)\n",
    "algPropio[\"bohachevsky\"] = sol\n",
    "cutePrint(sol)\n",
    "statistics(sol)"
   ]
  },
  {
   "source": [
    "Minimización de la función mediante el algoritmo diferencial de la biblioteca scipy"
   ],
   "cell_type": "markdown",
   "metadata": {}
  },
  {
   "cell_type": "code",
   "execution_count": 37,
   "metadata": {},
   "outputs": [
    {
     "output_type": "stream",
     "name": "stdout",
     "text": [
      "iter   fitness\n   1   0.0\n   2   0.0\n   3   0.0\n   4   0.0\n   5   0.0\n   6   0.0\n   7   1.049784053734278\n   8   0.0\n   9   1.643826589847178\n  10   0.0\n\nEstadisticas\navg:   0.2693610643581456\nmed:   0.0\nstd:   0.5548566109403262\nmin:   0.0\nmax:   1.643826589847178\n"
     ]
    }
   ],
   "source": [
    "import benchmarks.functions as functions\n",
    "sol = ejecutarScipy(functions.bohachevsky, 10, 20, 10)\n",
    "cutePrint(sol)\n",
    "algScipy[\"bohachevsky\"] = sol\n",
    "statistics(sol)"
   ]
  },
  {
   "source": [
    "Minimización de la función mediante el algoritmo de SADE"
   ],
   "cell_type": "markdown",
   "metadata": {}
  },
  {
   "cell_type": "code",
   "execution_count": 38,
   "metadata": {},
   "outputs": [
    {
     "output_type": "stream",
     "name": "stdout",
     "text": [
      "iter   fitness\n   1   0.1386359989098025\n   2   0.0\n   3   2.0999363514600153\n   4   2.1356358184918522\n   5   0.0\n   6   0.004953695094903783\n   7   1.4571566085189231e-10\n   8   0.46988241492139576\n   9   0.0\n  10   0.0\n\nEstadisticas\navg:   0.48490442790236854\nmed:   0.002476847620309722\nstd:   0.8282139790269486\nmin:   0.0\nmax:   2.1356358184918522\n"
     ]
    }
   ],
   "source": [
    "import benchmarks.functions as functions\n",
    "sol = ejecutarPyade(functions.bohachevsky, 10, 20, 10)\n",
    "algSade[\"bohachevsky\"] = sol\n",
    "cutePrint(sol)\n",
    "statistics(sol)"
   ]
  },
  {
   "source": [
    "## Función Schaffer"
   ],
   "cell_type": "markdown",
   "metadata": {}
  },
  {
   "source": [
    "Minimización de la función mediante el algoritmo propio"
   ],
   "cell_type": "markdown",
   "metadata": {}
  },
  {
   "cell_type": "code",
   "execution_count": 39,
   "metadata": {},
   "outputs": [
    {
     "output_type": "stream",
     "name": "stdout",
     "text": [
      "iter   fitness\n   1   0.0\n   2   0.0\n   3   0.0\n   4   0.0\n   5   0.0\n   6   0.0\n   7   0.0\n   8   0.0\n   9   0.0\n  10   0.0\n\nEstadisticas\navg:   0.0\nmed:   0.0\nstd:   0.0\nmin:   0.0\nmax:   0.0\n"
     ]
    }
   ],
   "source": [
    "import benchmarks.functions as functions\n",
    "sol = ejecutarInterno(functions.schaffer, 10, 20, 10)\n",
    "algPropio[\"schaffer\"] = sol\n",
    "cutePrint(sol)\n",
    "statistics(sol)"
   ]
  },
  {
   "source": [
    "Minimización de la función mediante el algoritmo diferencial de la biblioteca scipy"
   ],
   "cell_type": "markdown",
   "metadata": {}
  },
  {
   "cell_type": "code",
   "execution_count": 40,
   "metadata": {},
   "outputs": [
    {
     "output_type": "stream",
     "name": "stdout",
     "text": [
      "iter   fitness\n   1   37.63514895183047\n   2   39.395621006383195\n   3   40.92065007806648\n   4   38.98247727881382\n   5   32.95852565983487\n   6   33.877873467573856\n   7   38.06445998423665\n   8   43.78720788876411\n   9   37.41380348045218\n  10   34.66983566557188\n\nEstadisticas\navg:   37.770560346152756\nmed:   37.84980446803356\nstd:   3.1366837420781124\nmin:   32.95852565983487\nmax:   43.78720788876411\n"
     ]
    }
   ],
   "source": [
    "import benchmarks.functions as functions\n",
    "sol = ejecutarScipy(functions.schaffer, 10, 20, 10)\n",
    "cutePrint(sol)\n",
    "algScipy[\"schaffer\"] = sol\n",
    "statistics(sol)"
   ]
  },
  {
   "source": [
    "Minimización de la función mediante el algoritmo de SADE"
   ],
   "cell_type": "markdown",
   "metadata": {}
  },
  {
   "cell_type": "code",
   "execution_count": 41,
   "metadata": {},
   "outputs": [
    {
     "output_type": "stream",
     "name": "stdout",
     "text": [
      "iter   fitness\n   1   0.0\n   2   0.010728963813447377\n   3   0.0\n   4   0.0\n   5   0.7932170818323055\n   6   0.001976029809054694\n   7   0.0\n   8   0.6248709401760708\n   9   0.0\n  10   0.19729418961959022\n\nEstadisticas\navg:   0.16280872052504686\nmed:   0.000988014904527347\nstd:   0.28171514844129775\nmin:   0.0\nmax:   0.7932170818323055\n"
     ]
    }
   ],
   "source": [
    "import benchmarks.functions as functions\n",
    "sol = ejecutarPyade(functions.schaffer, 10, 20, 10)\n",
    "algSade[\"schaffer\"] = sol\n",
    "cutePrint(sol)\n",
    "statistics(sol)"
   ]
  },
  {
   "source": [
    "## Test estadísticos no paramétricos"
   ],
   "cell_type": "markdown",
   "metadata": {}
  },
  {
   "source": [
    "Definición de las funciones del benchmark que se han usado para la comparación de los algoritmos  "
   ],
   "cell_type": "markdown",
   "metadata": {}
  },
  {
   "cell_type": "code",
   "execution_count": 42,
   "metadata": {},
   "outputs": [],
   "source": [
    "from benchmarks.functions import sphere, ackley, rosenbrock, rastrigin, griewank,schwefel_2_21, schwefel_2_22, schwefel_1_2, extended_f_10, bohachevsky, schaffer\n",
    "\n",
    "benchmark = [sphere, ackley, rosenbrock, rastrigin, griewank, schwefel_2_21,\n",
    "             schwefel_2_22, schwefel_1_2, extended_f_10, bohachevsky, schaffer]"
   ]
  },
  {
   "source": [
    "### Test Kruskal"
   ],
   "cell_type": "markdown",
   "metadata": {}
  },
  {
   "source": [
    "Mediante el test de Kruskal, se puede observar las diferencias de rendimientos entre los algoritmos por cada función. <br>\n",
    "<br>\n",
    "Con los resultados obtenidos se puede observar que las funciones de sphere, ackley, rastrigin, schwefel_2_21, extended_f_10 y schaffer tienen una menor diferencia en cuando al rendimiento. <br>\n",
    "Mientras que en el resto las diferencias entre los rendimientos son más significativos."
   ],
   "cell_type": "markdown",
   "metadata": {}
  },
  {
   "cell_type": "code",
   "execution_count": 44,
   "metadata": {},
   "outputs": [
    {
     "output_type": "stream",
     "name": "stdout",
     "text": [
      "Results for the sphere function: 6.6303174900988915e-06\nResults for the ackley function: 3.5812606741135848e-06\nResults for the rosenbrock function: 0.00016964649587488238\nResults for the rastrigin function: 1.35789117638115e-05\nResults for the griewank function: 0.0004879859630692449\nResults for the schwefel_2_21 function: 3.7213723834318787e-06\nResults for the schwefel_2_22 function: 0.0001793695557830636\nResults for the schwefel_1_2 function: 0.0032186724736990016\nResults for the extended_f_10 function: 5.139364438815911e-06\nResults for the bohachevsky function: 0.014634464969844078\nResults for the schaffer function: 6.294352926442411e-06\n"
     ]
    }
   ],
   "source": [
    "from scipy.stats import kruskal\n",
    "import numpy as np\n",
    "for func in benchmark:\n",
    "    f = func.__name__\n",
    "    ##quitar las 2 lineas siguietes\n",
    "    # algScipy[f] = np.random.uniform(size = 10)\n",
    "    # algSade[f] = np.random.uniform(size = 10)\n",
    "    res = kruskal(algPropio[f], algScipy[f], algSade[f])\n",
    "    print(\"Results for the \"+f+\" function: \"+str(res.pvalue))"
   ]
  },
  {
   "source": [
    "### Test de Friedman"
   ],
   "cell_type": "markdown",
   "metadata": {}
  },
  {
   "source": [
    "Mediante el test de Friedman se puede comprobar las diferencias de rendimiento comparando las medias de una forma más global que el Test de Kruskal, el cual realizaba las comparaciones por función."
   ],
   "cell_type": "markdown",
   "metadata": {}
  },
  {
   "cell_type": "code",
   "execution_count": 45,
   "metadata": {},
   "outputs": [],
   "source": [
    "import numpy as np\n",
    "algNames = [\"propio\", \"scipy\", \"sade\"]\n",
    "results_avg = {}\n",
    "for n in algNames:\n",
    "    results_avg[n] = []\n",
    "\n",
    "for func in benchmark:\n",
    "    f = func.__name__\n",
    "    results_avg[\"propio\"].append(np.mean(algPropio[f]))\n",
    "    results_avg[\"scipy\"].append(np.mean(algScipy[f]))\n",
    "    results_avg[\"sade\" ].append(np.mean(algSade [f]))\n",
    "    # results_avg[\"scipy\"].append(np.random.uniform())\n",
    "    # results_avg[\"sade\" ].append(np.random.uniform())"
   ]
  },
  {
   "source": [
    "Se muestran las medias de los algoritmos en comparación"
   ],
   "cell_type": "markdown",
   "metadata": {}
  },
  {
   "cell_type": "code",
   "execution_count": 46,
   "metadata": {},
   "outputs": [
    {
     "output_type": "stream",
     "name": "stdout",
     "text": [
      "{  'propio': [  0.0,\n                4.440892098500626e-16,\n                0.5888894590420853,\n                0.3979831190554086,\n                1.0,\n                0.005020064686445169,\n                0.0,\n                0.0,\n                0.0,\n                0.0,\n                0.0],\n   'sade': [  0.006765637785502904,\n              0.02360547750168296,\n              10.847561337470612,\n              0.21568524789497195,\n              1.0000000368431334,\n              0.30865414496296734,\n              0.019456764258960882,\n              0.05329081304007057,\n              0.08263773860625472,\n              0.48490442790236854,\n              0.16280872052504686],\n   'scipy': [  0.0,\n               8.813630970146024,\n               5.912622632781935e-10,\n               216.50076200244763,\n               1.0000000000033196,\n               0.0,\n               0.0,\n               0.0,\n               34.05958931989015,\n               0.2693610643581456,\n               37.770560346152756]}\n"
     ]
    }
   ],
   "source": [
    "import pprint\n",
    "pp = pprint.PrettyPrinter(indent=3)\n",
    "pp.pprint(results_avg)"
   ]
  },
  {
   "source": [
    "El resultado obtenido en pvalue es menor que 0.05, lo que indica que las diferencias de rendimientos entre los algoritmos es significativa. <br>\n",
    "Es decir, que al menos uno será más óptimo que los demás."
   ],
   "cell_type": "markdown",
   "metadata": {}
  },
  {
   "cell_type": "code",
   "execution_count": 47,
   "metadata": {},
   "outputs": [
    {
     "output_type": "execute_result",
     "data": {
      "text/plain": [
       "FriedmanchisquareResult(statistic=7.658536585365842, pvalue=0.021725506527489946)"
      ]
     },
     "metadata": {},
     "execution_count": 47
    }
   ],
   "source": [
    "from scipy.stats import friedmanchisquare\n",
    "\n",
    "friedmanchisquare(results_avg[\"propio\"], results_avg[\"scipy\"], results_avg[\"sade\"])"
   ]
  },
  {
   "source": [
    "### Test Wilcoxon"
   ],
   "cell_type": "markdown",
   "metadata": {}
  },
  {
   "source": [
    "Mediante el test de Wilcoxon se realiza un ranking mediante una comparación general de los algoritmos, comparando por pares. <br>\n",
    "<br>\n",
    "Con los resultados obtenidos podemos afirmar que el algoritmo de SADE es mejor que los algoritmos de la biblioteca scipy y el algoritmo propio implementado. <br>\n",
    "Además, viendo los resultados obtenidos en la comparación de nuestro algoritmo con los de los biblioteca, se observa que nuestra implementación es más óptimo que los de biblioteca\n",
    "<br> Y por último, comparando los algoritmos de biblioteca, se observa que el de SADE es mejor, como cabe esperar, ya que éste último es una versión avanzada de los algoritmos diferenciales."
   ],
   "cell_type": "code",
   "metadata": {},
   "execution_count": null,
   "outputs": []
  },
  {
   "cell_type": "code",
   "execution_count": 49,
   "metadata": {},
   "outputs": [
    {
     "output_type": "execute_result",
     "data": {
      "text/plain": [
       "          propio     scipy      sade\n",
       "propio  1.000000  0.185784  0.073242\n",
       "scipy   0.185784  1.000000  0.764648\n",
       "sade    0.073242  0.764648  1.000000"
      ],
      "text/html": "<div>\n<style scoped>\n    .dataframe tbody tr th:only-of-type {\n        vertical-align: middle;\n    }\n\n    .dataframe tbody tr th {\n        vertical-align: top;\n    }\n\n    .dataframe thead th {\n        text-align: right;\n    }\n</style>\n<table border=\"1\" class=\"dataframe\">\n  <thead>\n    <tr style=\"text-align: right;\">\n      <th></th>\n      <th>propio</th>\n      <th>scipy</th>\n      <th>sade</th>\n    </tr>\n  </thead>\n  <tbody>\n    <tr>\n      <th>propio</th>\n      <td>1.000000</td>\n      <td>0.185784</td>\n      <td>0.073242</td>\n    </tr>\n    <tr>\n      <th>scipy</th>\n      <td>0.185784</td>\n      <td>1.000000</td>\n      <td>0.764648</td>\n    </tr>\n    <tr>\n      <th>sade</th>\n      <td>0.073242</td>\n      <td>0.764648</td>\n      <td>1.000000</td>\n    </tr>\n  </tbody>\n</table>\n</div>"
     },
     "metadata": {},
     "execution_count": 49
    }
   ],
   "source": [
    "import pandas          as pd\n",
    "import scikit_posthocs as sp\n",
    "\n",
    "data = pd.DataFrame({\"algs\": [\"propio\"  ]*len(results_avg[\"propio\"  ]) +\n",
    "                             [\"scipy\"]*len(results_avg[\"scipy\"]) +\n",
    "                             [\"sade\" ]*len(results_avg[\"sade\" ]),\n",
    "                     \"vals\": results_avg[\"propio\"  ] +\n",
    "                             results_avg[\"scipy\"] +\n",
    "                             results_avg[\"sade\" ]})\n",
    "\n",
    "sp.posthoc_wilcoxon(data, val_col='vals', group_col='algs', p_adjust = 'holm')"
   ]
  },
  {
   "source": [
    "## Conclusión"
   ],
   "cell_type": "markdown",
   "metadata": {}
  },
  {
   "source": [
    "Una vez realizado todas las comparaciones, podemos observar que nuestro algoritmo funciona mejor para generaciones y poblaciones pequeñas, mientras que los algoritmos de biblioteca funcionan mejor para valores más grandes. <br>\n",
    "<br>\n",
    "Asimismo, nuestro algoritmo está menos optimizado, es decir que si usamos valores grandes, éste tardaría mucho en terminar de ejecutar y encontrar resultados."
   ],
   "cell_type": "markdown",
   "metadata": {}
  }
 ]
}