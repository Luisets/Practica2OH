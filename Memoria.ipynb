{
 "metadata": {
  "language_info": {
   "codemirror_mode": {
    "name": "ipython",
    "version": 3
   },
   "file_extension": ".py",
   "mimetype": "text/x-python",
   "name": "python",
   "nbconvert_exporter": "python",
   "pygments_lexer": "ipython3",
   "version": "3.8.3-final"
  },
  "orig_nbformat": 2,
  "kernelspec": {
   "name": "python3",
   "display_name": "Python 3",
   "language": "python"
  }
 },
 "nbformat": 4,
 "nbformat_minor": 2,
 "cells": [
  {
   "source": [
    "# Grupo06: Evaluación de algoritmos evolutivos"
   ],
   "cell_type": "markdown",
   "metadata": {}
  },
  {
   "source": [
    "## Introducción"
   ],
   "cell_type": "markdown",
   "metadata": {}
  },
  {
   "source": [
    "En el notebook se presenta la comparación entre un algoritmo implementado por nuestro grupo y algoritmos de biblioteca, mediante tests estadísticos paramétricos y no paramétricos."
   ],
   "cell_type": "markdown",
   "metadata": {}
  },
  {
   "source": [
    "Código de la función para llamar nuestro algoritmo"
   ],
   "cell_type": "markdown",
   "metadata": {}
  },
  {
   "cell_type": "code",
   "execution_count": 1,
   "metadata": {},
   "outputs": [],
   "source": [
    "from group06.EA import EA\n",
    "import numpy as np\n",
    "import scipy\n",
    "\n",
    "def ejecutarInterno(fun, reps, gens, poblacion):\n",
    "    bounds = [(0, 10)] * 20\n",
    "    myea = EA(fun, bounds, poblacion)\n",
    "    res = []\n",
    "    for x in range(reps):\n",
    "        myea.run((gens + 1) * len(bounds) * poblacion)\n",
    "        bestSol = myea.best()\n",
    "        res.append(bestSol.getFitnes())\n",
    "    return res"
   ]
  },
  {
   "source": [
    "Código de la función para llamar al algoritmo diferencial de la biblioteca scipy"
   ],
   "cell_type": "markdown",
   "metadata": {}
  },
  {
   "cell_type": "code",
   "execution_count": 2,
   "metadata": {},
   "outputs": [],
   "source": [
    "from scipy.optimize import differential_evolution\n",
    "def ejecutarScipy(fun, reps, gens, poblacion):\n",
    "    bounds = [(0, 10)] * 20\n",
    "    res = []\n",
    "    for x in range(reps):\n",
    "        sol = differential_evolution(fun, bounds, strategy=\"rand1exp\", popsize=poblacion, polish=True, maxiter=gens)\n",
    "        res.append(sol.fun)\n",
    "    return res"
   ]
  },
  {
   "source": [
    "Código de la función para llamar al algoritmo SADE de la biblioteca PyADE"
   ],
   "cell_type": "markdown",
   "metadata": {}
  },
  {
   "cell_type": "code",
   "execution_count": 3,
   "metadata": {},
   "outputs": [
    {
     "output_type": "error",
     "ename": "ModuleNotFoundError",
     "evalue": "No module named 'pyade'",
     "traceback": [
      "\u001b[1;31m---------------------------------------------------------------------------\u001b[0m",
      "\u001b[1;31mModuleNotFoundError\u001b[0m                       Traceback (most recent call last)",
      "\u001b[1;32m<ipython-input-3-f86d08ecc283>\u001b[0m in \u001b[0;36m<module>\u001b[1;34m\u001b[0m\n\u001b[1;32m----> 1\u001b[1;33m \u001b[1;32mimport\u001b[0m \u001b[0mpyade\u001b[0m\u001b[1;33m.\u001b[0m\u001b[0msade\u001b[0m \u001b[1;32mas\u001b[0m \u001b[0msade\u001b[0m\u001b[1;33m\u001b[0m\u001b[1;33m\u001b[0m\u001b[0m\n\u001b[0m\u001b[0;32m      2\u001b[0m \u001b[1;32mdef\u001b[0m \u001b[0mejecutarPyade\u001b[0m\u001b[1;33m(\u001b[0m\u001b[0mfunc\u001b[0m\u001b[1;33m,\u001b[0m \u001b[0mreps\u001b[0m\u001b[1;33m,\u001b[0m \u001b[0mgens\u001b[0m\u001b[1;33m,\u001b[0m \u001b[0mpoblacion\u001b[0m\u001b[1;33m)\u001b[0m\u001b[1;33m:\u001b[0m\u001b[1;33m\u001b[0m\u001b[1;33m\u001b[0m\u001b[0m\n\u001b[0;32m      3\u001b[0m     \u001b[0mbounds\u001b[0m \u001b[1;33m=\u001b[0m \u001b[1;33m[\u001b[0m\u001b[1;33m(\u001b[0m\u001b[1;36m0\u001b[0m\u001b[1;33m,\u001b[0m \u001b[1;36m10\u001b[0m\u001b[1;33m)\u001b[0m\u001b[1;33m]\u001b[0m \u001b[1;33m*\u001b[0m \u001b[1;36m20\u001b[0m\u001b[1;33m\u001b[0m\u001b[1;33m\u001b[0m\u001b[0m\n\u001b[0;32m      4\u001b[0m     \u001b[0mparams\u001b[0m \u001b[1;33m=\u001b[0m \u001b[0msade\u001b[0m\u001b[1;33m.\u001b[0m\u001b[0mget_default_params\u001b[0m\u001b[1;33m(\u001b[0m\u001b[0mdim\u001b[0m\u001b[1;33m=\u001b[0m\u001b[0mlen\u001b[0m\u001b[1;33m(\u001b[0m\u001b[0mbounds\u001b[0m\u001b[1;33m)\u001b[0m\u001b[1;33m)\u001b[0m\u001b[1;33m\u001b[0m\u001b[1;33m\u001b[0m\u001b[0m\n\u001b[0;32m      5\u001b[0m     \u001b[0mparams\u001b[0m\u001b[1;33m[\u001b[0m\u001b[1;34m'bounds'\u001b[0m         \u001b[1;33m]\u001b[0m \u001b[1;33m=\u001b[0m \u001b[0mnp\u001b[0m\u001b[1;33m.\u001b[0m\u001b[0marray\u001b[0m\u001b[1;33m(\u001b[0m\u001b[0mbounds\u001b[0m\u001b[1;33m)\u001b[0m\u001b[1;33m\u001b[0m\u001b[1;33m\u001b[0m\u001b[0m\n",
      "\u001b[1;31mModuleNotFoundError\u001b[0m: No module named 'pyade'"
     ]
    }
   ],
   "source": [
    "import pyade.sade as sade\n",
    "def ejecutarPyade(func, reps, gens, poblacion):\n",
    "    bounds = [(0, 10)] * 20    \n",
    "    params = sade.get_default_params(dim=len(bounds))\n",
    "    params['bounds'         ] = np.array(bounds)\n",
    "    params['max_evals'      ] = gens\n",
    "    params['population_size'] = poblacion\n",
    "    params['func'           ] = func\n",
    "    results = []\n",
    "\n",
    "    for i in range(reps):\n",
    "        _, fitness = sade.apply(**params)\n",
    "        results.append(fitness)\n",
    "\n",
    "    return results"
   ]
  },
  {
   "source": [
    "Código de la función para mostrar con formato los fitness obtenidos por los algoritmos"
   ],
   "cell_type": "markdown",
   "metadata": {}
  },
  {
   "cell_type": "code",
   "execution_count": 47,
   "metadata": {},
   "outputs": [],
   "source": [
    "def cutePrint(vals):\n",
    "    print(\"iter{}fitness\".format(\"\".ljust(3)))\n",
    "    i = 1\n",
    "    for fitnes in sol:\n",
    "        print(\"{}{}{}\".format(str(i).rjust(4), \"\".ljust(3), format(fitnes)))\n",
    "        i+=1"
   ]
  },
  {
   "source": [
    "Código de la función para mostrar los datos estadisticos"
   ],
   "cell_type": "markdown",
   "metadata": {}
  },
  {
   "cell_type": "code",
   "execution_count": 48,
   "metadata": {},
   "outputs": [],
   "source": [
    "import numpy as np\n",
    "def statistics(values):\n",
    "    print(\"\\nEstadisticas\")\n",
    "    print(\"avg:{}{}\".format(\"\".ljust(3), np.average(values)))\n",
    "    print(\"med:{}{}\".format(\"\".ljust(3), np.median(values)))\n",
    "    print(\"std:{}{}\".format(\"\".ljust(3), np.std(values)))\n",
    "    print(\"min:{}{}\".format(\"\".ljust(3), np.min(values)))\n",
    "    print(\"max:{}{}\".format(\"\".ljust(3), np.max(values)))\n",
    "    pass\n",
    "\n"
   ]
  },
  {
   "source": [
    "Se definen las siguientes variables para almacenar los resultados obtenidos por los algoritmos respectivamente"
   ],
   "cell_type": "markdown",
   "metadata": {}
  },
  {
   "cell_type": "code",
   "execution_count": 49,
   "metadata": {},
   "outputs": [],
   "source": [
    "algPropio = {}\n",
    "algScipy = {}\n",
    "algSade = {}\n"
   ]
  },
  {
   "source": [
    "## Función Sphere"
   ],
   "cell_type": "markdown",
   "metadata": {}
  },
  {
   "source": [
    "Utilizando algoritmo propio"
   ],
   "cell_type": "markdown",
   "metadata": {}
  },
  {
   "cell_type": "code",
   "execution_count": 50,
   "metadata": {},
   "outputs": [
    {
     "output_type": "stream",
     "name": "stdout",
     "text": [
      "iter   fitnes\n   1   0.0\n   2   0.0\n   3   0.0\n   4   0.0\n   5   0.0\n   6   0.0\n   7   0.0\n   8   0.0\n   9   0.0\n  10   0.0\n\nEstadisticas\navg:   0.0\nmed:   0.0\nstd:   0.0\nmin:   0.0\nmax:   0.0\n"
     ]
    }
   ],
   "source": [
    "import benchmarks.functions as functions\n",
    "sol = ejecutarInterno(functions.sphere, 10, 20, 10)\n",
    "algPropio[\"sphere\"] = sol\n",
    "cutePrint(sol)\n",
    "statistics(sol)"
   ]
  },
  {
   "source": [
    "utilizando algoritmo de biblioteca scipy"
   ],
   "cell_type": "markdown",
   "metadata": {}
  },
  {
   "cell_type": "code",
   "execution_count": 51,
   "metadata": {},
   "outputs": [
    {
     "output_type": "stream",
     "name": "stdout",
     "text": [
      "iter   fitnes\n   1   0.0\n   2   0.0\n   3   0.0\n   4   0.0\n   5   0.0\n   6   0.0\n   7   0.0\n   8   0.0\n   9   0.0\n  10   0.0\n\nEstadisticas\navg:   0.0\nmed:   0.0\nstd:   0.0\nmin:   0.0\nmax:   0.0\n"
     ]
    }
   ],
   "source": [
    "import benchmarks.functions as functions\n",
    "sol = ejecutarScipy(functions.sphere, 10, 20, 10)\n",
    "algScipy[\"sphere\"] = sol\n",
    "cutePrint(sol)\n",
    "statistics(sol)"
   ]
  },
  {
   "source": [
    "utilizando algoritmo de biblioteca pyade"
   ],
   "cell_type": "markdown",
   "metadata": {}
  },
  {
   "cell_type": "code",
   "execution_count": 52,
   "metadata": {},
   "outputs": [
    {
     "output_type": "stream",
     "name": "stdout",
     "text": [
      "iter   fitnes\n   1   2.0583729250724865\n   2   3.0290686209944853\n   3   4.242642593841372\n   4   2.2634064589214935\n   5   0.4537806732288784\n   6   3.1776426668287003\n   7   2.4351064650908225\n   8   6.30493596710017\n   9   4.238830734147051\n  10   5.447633835987296\n\nEstadisticas\navg:   3.3651420941212757\nmed:   3.103355643911593\nstd:   1.6408247596014107\nmin:   0.4537806732288784\nmax:   6.30493596710017\n"
     ]
    }
   ],
   "source": [
    "import benchmarks.functions as functions\n",
    "sol = ejecutarPyade(functions.sphere, 10, 20, 10)\n",
    "algSade[\"sphere\"] = sol\n",
    "cutePrint(sol)\n",
    "statistics(sol)"
   ]
  },
  {
   "source": [
    "## Función Ackley"
   ],
   "cell_type": "markdown",
   "metadata": {}
  },
  {
   "source": [
    "Utilizando algoritmo propio"
   ],
   "cell_type": "markdown",
   "metadata": {}
  },
  {
   "cell_type": "code",
   "execution_count": 53,
   "metadata": {},
   "outputs": [
    {
     "output_type": "stream",
     "name": "stdout",
     "text": [
      "iter   fitnes\n   1   4.440892098500626e-16\n   2   4.440892098500626e-16\n   3   4.440892098500626e-16\n   4   4.440892098500626e-16\n   5   4.440892098500626e-16\n   6   4.440892098500626e-16\n   7   4.440892098500626e-16\n   8   4.440892098500626e-16\n   9   4.440892098500626e-16\n  10   4.440892098500626e-16\n\nEstadisticas\navg:   4.440892098500626e-16\nmed:   4.440892098500626e-16\nstd:   0.0\nmin:   4.440892098500626e-16\nmax:   4.440892098500626e-16\n"
     ]
    }
   ],
   "source": [
    "import benchmarks.functions as functions\n",
    "sol = ejecutarInterno(functions.ackley, 10, 20, 10)\n",
    "algPropio[\"ackley\"] = sol\n",
    "cutePrint(sol)\n",
    "statistics(sol)"
   ]
  },
  {
   "source": [
    "scipy"
   ],
   "cell_type": "markdown",
   "metadata": {}
  },
  {
   "cell_type": "code",
   "execution_count": 54,
   "metadata": {},
   "outputs": [
    {
     "output_type": "stream",
     "name": "stdout",
     "text": [
      "iter   fitnes\n   1   8.409450052622693\n   2   9.198312367561655\n   3   8.47257027100261\n   4   9.163169801261043\n   5   8.191685307643393\n   6   8.49339716934779\n   7   8.101197671689764\n   8   8.323721204417204\n   9   8.596013272028676\n  10   9.502112679182687\n\nEstadisticas\navg:   8.645162979675751\nmed:   8.4829837201752\nstd:   0.449925610765976\nmin:   8.101197671689764\nmax:   9.502112679182687\n"
     ]
    }
   ],
   "source": [
    "import benchmarks.functions as functions\n",
    "sol = ejecutarScipy(functions.ackley, 10, 20, 10)\n",
    "cutePrint(sol)\n",
    "statistics(sol)"
   ]
  },
  {
   "source": [
    "## Función Rosenbrock"
   ],
   "cell_type": "markdown",
   "metadata": {}
  },
  {
   "source": [
    "Utilizando algoritmo propio"
   ],
   "cell_type": "markdown",
   "metadata": {}
  },
  {
   "cell_type": "code",
   "execution_count": 55,
   "metadata": {},
   "outputs": [
    {
     "output_type": "stream",
     "name": "stdout",
     "text": [
      "iter   fitnes\n   1   0.0\n   2   0.0\n   3   0.001748707548697244\n   4   0.06946332621566012\n   5   16.70484718536298\n   6   0.0\n   7   0.0\n   8   0.0\n   9   0.0\n  10   0.0\n\nEstadisticas\navg:   1.6776059219127337\nmed:   0.0\nstd:   5.009122991159528\nmin:   0.0\nmax:   16.70484718536298\n"
     ]
    }
   ],
   "source": [
    "import benchmarks.functions as functions\n",
    "sol = ejecutarInterno(functions.rosenbrock, 10, 20, 10)\n",
    "algPropio[\"rosenbrock\"] = sol\n",
    "cutePrint(sol)\n",
    "statistics(sol)"
   ]
  },
  {
   "source": [
    "scipy"
   ],
   "cell_type": "markdown",
   "metadata": {}
  },
  {
   "cell_type": "code",
   "execution_count": 56,
   "metadata": {},
   "outputs": [
    {
     "output_type": "stream",
     "name": "stdout",
     "text": [
      "iter   fitnes\n   1   0.0\n   2   0.0\n   3   0.0\n   4   0.0\n   5   0.0\n   6   0.0\n   7   0.0\n   8   0.0\n   9   0.0\n  10   0.0\n\nEstadisticas\navg:   0.0\nmed:   0.0\nstd:   0.0\nmin:   0.0\nmax:   0.0\n"
     ]
    }
   ],
   "source": [
    "import benchmarks.functions as functions\n",
    "sol = ejecutarScipy(functions.sphere, 10, 20, 10)\n",
    "cutePrint(sol)\n",
    "statistics(sol)"
   ]
  },
  {
   "source": [
    "## Función Rastrigin"
   ],
   "cell_type": "markdown",
   "metadata": {}
  },
  {
   "source": [
    "Utilizando algoritmo propio"
   ],
   "cell_type": "markdown",
   "metadata": {}
  },
  {
   "cell_type": "code",
   "execution_count": 57,
   "metadata": {},
   "outputs": [
    {
     "output_type": "stream",
     "name": "stdout",
     "text": [
      "iter   fitnes\n   1   0.0\n   2   3.979831190554086\n   3   1.9899181141865796\n   4   0.0\n   5   0.0\n   6   0.0\n   7   0.0\n   8   0.0\n   9   0.0\n  10   8.954601241487008\n\nEstadisticas\navg:   1.4924350546227676\nmed:   0.0\nstd:   2.7876529532538137\nmin:   0.0\nmax:   8.954601241487008\n"
     ]
    }
   ],
   "source": [
    "import benchmarks.functions as functions\n",
    "sol = ejecutarInterno(functions.rastrigin, 10, 20, 10)\n",
    "algPropio[\"rastrigin\"] = sol\n",
    "cutePrint(sol)\n",
    "statistics(sol)"
   ]
  },
  {
   "source": [
    "## Función Griewank"
   ],
   "cell_type": "markdown",
   "metadata": {}
  },
  {
   "source": [
    "Utilizando algoritmo propio"
   ],
   "cell_type": "markdown",
   "metadata": {}
  },
  {
   "cell_type": "code",
   "execution_count": 58,
   "metadata": {},
   "outputs": [
    {
     "output_type": "stream",
     "name": "stdout",
     "text": [
      "iter   fitnes\n   1   1.0\n   2   1.0\n   3   1.0\n   4   1.0\n   5   1.0\n   6   1.0\n   7   1.0\n   8   1.0\n   9   1.0\n  10   1.0\n\nEstadisticas\navg:   1.0\nmed:   1.0\nstd:   0.0\nmin:   1.0\nmax:   1.0\n"
     ]
    }
   ],
   "source": [
    "import benchmarks.functions as functions\n",
    "sol = ejecutarInterno(functions.griewank, 10, 20, 10)\n",
    "algPropio[\"griewank\"] = sol\n",
    "cutePrint(sol)\n",
    "statistics(sol)"
   ]
  },
  {
   "source": [
    "## Función Schwefel_2_21"
   ],
   "cell_type": "markdown",
   "metadata": {}
  },
  {
   "source": [
    "Utilizando algoritmo propio"
   ],
   "cell_type": "markdown",
   "metadata": {}
  },
  {
   "cell_type": "code",
   "execution_count": 59,
   "metadata": {},
   "outputs": [
    {
     "output_type": "stream",
     "name": "stdout",
     "text": [
      "iter   fitnes\n   1   0.0\n   2   0.0\n   3   0.0\n   4   0.0\n   5   0.0\n   6   0.0\n   7   0.0\n   8   0.0\n   9   0.0\n  10   0.0\n\nEstadisticas\navg:   0.0\nmed:   0.0\nstd:   0.0\nmin:   0.0\nmax:   0.0\n"
     ]
    }
   ],
   "source": [
    "import benchmarks.functions as functions\n",
    "sol = ejecutarInterno(functions.schwefel_2_21, 10, 20, 10)\n",
    "algPropio[\"schwefel_2_21\"] = sol\n",
    "cutePrint(sol)\n",
    "statistics(sol)"
   ]
  },
  {
   "source": [
    "## Función Schwefel_2_22"
   ],
   "cell_type": "markdown",
   "metadata": {}
  },
  {
   "source": [
    "Utilizando algoritmo propio"
   ],
   "cell_type": "markdown",
   "metadata": {}
  },
  {
   "cell_type": "code",
   "execution_count": 60,
   "metadata": {},
   "outputs": [
    {
     "output_type": "stream",
     "name": "stdout",
     "text": [
      "iter   fitnes\n   1   0.0\n   2   0.0\n   3   0.0\n   4   0.0\n   5   0.0\n   6   0.0\n   7   0.0\n   8   0.0\n   9   0.0\n  10   0.0\n\nEstadisticas\navg:   0.0\nmed:   0.0\nstd:   0.0\nmin:   0.0\nmax:   0.0\n"
     ]
    }
   ],
   "source": [
    "import benchmarks.functions as functions\n",
    "sol = ejecutarInterno(functions.schwefel_2_22, 10, 20, 10)\n",
    "algPropio[\"schwefel_2_22\"] = sol\n",
    "cutePrint(sol)\n",
    "statistics(sol)"
   ]
  },
  {
   "source": [
    "## Función Schwefel_1_2"
   ],
   "cell_type": "markdown",
   "metadata": {}
  },
  {
   "source": [
    "Utilizando algoritmo propio"
   ],
   "cell_type": "markdown",
   "metadata": {}
  },
  {
   "cell_type": "code",
   "execution_count": 61,
   "metadata": {},
   "outputs": [
    {
     "output_type": "stream",
     "name": "stdout",
     "text": [
      "iter   fitnes\n   1   0.0\n   2   0.0\n   3   0.0\n   4   0.0\n   5   0.0\n   6   0.0\n   7   0.0\n   8   0.0\n   9   0.0\n  10   0.0\n\nEstadisticas\navg:   0.0\nmed:   0.0\nstd:   0.0\nmin:   0.0\nmax:   0.0\n"
     ]
    }
   ],
   "source": [
    "import benchmarks.functions as functions\n",
    "sol = ejecutarInterno(functions.schwefel_1_2, 10, 20, 10)\n",
    "algPropio[\"schwefel_1_2\"] = sol\n",
    "cutePrint(sol)\n",
    "statistics(sol)"
   ]
  },
  {
   "source": [
    "## Función Extended_f_10"
   ],
   "cell_type": "markdown",
   "metadata": {}
  },
  {
   "source": [
    "Utilizando algoritmo propio"
   ],
   "cell_type": "markdown",
   "metadata": {}
  },
  {
   "cell_type": "code",
   "execution_count": 62,
   "metadata": {},
   "outputs": [
    {
     "output_type": "stream",
     "name": "stdout",
     "text": [
      "iter   fitnes\n   1   0.0\n   2   0.0\n   3   0.0\n   4   0.0\n   5   0.0\n   6   0.0\n   7   0.0\n   8   0.0\n   9   0.0\n  10   0.0\n\nEstadisticas\navg:   0.0\nmed:   0.0\nstd:   0.0\nmin:   0.0\nmax:   0.0\n"
     ]
    }
   ],
   "source": [
    "import benchmarks.functions as functions\n",
    "sol = ejecutarInterno(functions.extended_f_10, 10, 20, 10)\n",
    "algPropio[\"extended_f_10\"] = sol\n",
    "cutePrint(sol)\n",
    "statistics(sol)"
   ]
  },
  {
   "source": [
    "## Función Bohachevsky"
   ],
   "cell_type": "markdown",
   "metadata": {}
  },
  {
   "source": [
    "Utilizando algoritmo propio"
   ],
   "cell_type": "markdown",
   "metadata": {}
  },
  {
   "cell_type": "code",
   "execution_count": 63,
   "metadata": {},
   "outputs": [
    {
     "output_type": "stream",
     "name": "stdout",
     "text": [
      "iter   fitnes\n   1   0.0\n   2   0.0\n   3   0.0\n   4   0.0\n   5   0.0\n   6   0.0\n   7   0.0\n   8   0.0\n   9   0.0\n  10   0.0\n\nEstadisticas\navg:   0.0\nmed:   0.0\nstd:   0.0\nmin:   0.0\nmax:   0.0\n"
     ]
    }
   ],
   "source": [
    "import benchmarks.functions as functions\n",
    "sol = ejecutarInterno(functions.bohachevsky, 10, 20, 10)\n",
    "algPropio[\"bohachevsky\"] = sol\n",
    "cutePrint(sol)\n",
    "statistics(sol)"
   ]
  },
  {
   "source": [
    "## Función Schaffer"
   ],
   "cell_type": "markdown",
   "metadata": {}
  },
  {
   "source": [
    "Utilizando algoritmo propio"
   ],
   "cell_type": "markdown",
   "metadata": {}
  },
  {
   "cell_type": "code",
   "execution_count": 64,
   "metadata": {},
   "outputs": [
    {
     "output_type": "stream",
     "name": "stdout",
     "text": [
      "iter   fitnes\n   1   0.0\n   2   0.0\n   3   0.0\n   4   0.0\n   5   0.0\n   6   0.0\n   7   0.0\n   8   0.0\n   9   0.0\n  10   0.0\n\nEstadisticas\navg:   0.0\nmed:   0.0\nstd:   0.0\nmin:   0.0\nmax:   0.0\n"
     ]
    }
   ],
   "source": [
    "import benchmarks.functions as functions\n",
    "sol = ejecutarInterno(functions.schaffer, 10, 20, 10)\n",
    "algPropio[\"schaffer\"] = sol\n",
    "cutePrint(sol)\n",
    "statistics(sol)"
   ]
  },
  {
   "source": [
    "## Test estadísticos no paramétricos"
   ],
   "cell_type": "markdown",
   "metadata": {}
  },
  {
   "source": [
    "Definición de las funciones del benchmark que se han usado para la comparación de los algoritmos  "
   ],
   "cell_type": "markdown",
   "metadata": {}
  },
  {
   "cell_type": "code",
   "execution_count": 65,
   "metadata": {},
   "outputs": [],
   "source": [
    "from benchmarks.functions import sphere, ackley, rosenbrock, rastrigin, griewank,schwefel_2_21, schwefel_2_22, schwefel_1_2, extended_f_10, bohachevsky, schaffer\n",
    "\n",
    "benchmark = [sphere, ackley, rosenbrock, rastrigin, griewank, schwefel_2_21,\n",
    "             schwefel_2_22, schwefel_1_2, extended_f_10, bohachevsky, schaffer]"
   ]
  },
  {
   "source": [
    "### Test Kruskal"
   ],
   "cell_type": "code",
   "metadata": {},
   "execution_count": null,
   "outputs": []
  },
  {
   "source": [
    "Mediante el test de Kruskal, se puede observar las diferencias de rendimientos de los algoritmos, dos a dos, para cada una de las funciones.\n",
    "Como se puede observar con los resultados las diferencias en los rendimientos tienen "
   ],
   "cell_type": "markdown",
   "metadata": {}
  },
  {
   "cell_type": "code",
   "execution_count": 82,
   "metadata": {},
   "outputs": [
    {
     "output_type": "stream",
     "name": "stdout",
     "text": [
      "Results for the sphere function: 4.1922969868346675e-05\nResults for the ackley function: 3.6864265219277575e-05\nResults for the rosenbrock function: 0.0027846796546310746\nResults for the rastrigin function: 0.20604099850363838\nResults for the griewank function: 4.059667138253232e-05\nResults for the schwefel_2_21 function: 4.2431427862977355e-05\nResults for the schwefel_2_22 function: 2.6729413801059042e-05\nResults for the schwefel_1_2 function: 4.329259869661455e-05\nResults for the extended_f_10 function: 4.2431427862977355e-05\nResults for the bohachevsky function: 4.1922969868346675e-05\nResults for the schaffer function: 4.1922969868346675e-05\n"
     ]
    }
   ],
   "source": [
    "from scipy.stats import kruskal\n",
    "import numpy as np\n",
    "for func in benchmark:\n",
    "    f = func.__name__\n",
    "    ##quitar las 2 lineas siguietes\n",
    "    algScipy[f] = np.random.uniform(size = 10)\n",
    "    algSade[f] = np.random.uniform(size = 10)\n",
    "    res = kruskal(algPropio[f], algScipy[f], algSade[f])\n",
    "    print(\"Results for the \"+f+\" function: \"+str(res.pvalue))"
   ]
  },
  {
   "source": [
    "### Test de Friedman"
   ],
   "cell_type": "markdown",
   "metadata": {}
  },
  {
   "source": [
    "Mediante el test de Friedman se puede comprobar las diferencias de rendimiento comparando las medias dos a dos, en vez de por función como realiza las comparaciones con Kruskal."
   ],
   "cell_type": "markdown",
   "metadata": {}
  },
  {
   "cell_type": "code",
   "execution_count": 73,
   "metadata": {},
   "outputs": [],
   "source": [
    "import numpy as np\n",
    "algNames = [\"propio\", \"scipy\", \"sade\"]\n",
    "results_avg = {}\n",
    "for n in algNames:\n",
    "    results_avg[n] = []\n",
    "\n",
    "for func in benchmark:\n",
    "    f = func.__name__\n",
    "    results_avg[\"propio\"].append(np.mean(algPropio[f]))\n",
    "    # results_avg[\"scipy\"].append(np.mean(algScipy[f]))\n",
    "    # results_avg[\"sade\" ].append(np.mean(algSade [f]))\n",
    "    results_avg[\"scipy\"].append(np.random.uniform())\n",
    "    results_avg[\"sade\" ].append(np.random.uniform())"
   ]
  },
  {
   "source": [
    "Se muestran las medias de los algoritmos en comparación"
   ],
   "cell_type": "markdown",
   "metadata": {}
  },
  {
   "cell_type": "code",
   "execution_count": 75,
   "metadata": {},
   "outputs": [
    {
     "output_type": "stream",
     "name": "stdout",
     "text": [
      "{  'propio': [  0.0,\n                4.440892098500626e-16,\n                1.6776059219127337,\n                1.4924350546227676,\n                1.0,\n                0.0,\n                0.0,\n                0.0,\n                0.0,\n                0.0,\n                0.0],\n   'sade': [  0.8574269692737028,\n              0.6922375036746673,\n              0.2953060369288568,\n              0.6618022227343742,\n              0.45742390157663915,\n              0.06498772693865928,\n              0.3466907176219184,\n              0.2550590782004063,\n              0.9682992099054376,\n              0.18083223902933987,\n              0.7409043172393761],\n   'scipy': [  0.16228846506455308,\n               0.2722831606072441,\n               0.7703283657988236,\n               0.3848258588956456,\n               0.3526584337219718,\n               0.5771119318142857,\n               0.7128511656080203,\n               0.9017540947318242,\n               0.82883374640783,\n               0.8348318850110015,\n               0.24373337285982621]}\n"
     ]
    }
   ],
   "source": [
    "import pprint\n",
    "pp = pprint.PrettyPrinter(indent=3)\n",
    "pp.pprint(results_avg)"
   ]
  },
  {
   "source": [
    "En vista de los resultados obtenidos se puede decir que"
   ],
   "cell_type": "markdown",
   "metadata": {}
  },
  {
   "cell_type": "code",
   "execution_count": 79,
   "metadata": {},
   "outputs": [
    {
     "output_type": "execute_result",
     "data": {
      "text/plain": [
       "FriedmanchisquareResult(statistic=3.4545454545454675, pvalue=0.17776857282813666)"
      ]
     },
     "metadata": {},
     "execution_count": 79
    }
   ],
   "source": [
    "from scipy.stats import friedmanchisquare\n",
    "\n",
    "friedmanchisquare(results_avg[\"propio\"], results_avg[\"scipy\"], results_avg[\"sade\"])"
   ]
  },
  {
   "source": [
    "### Test Wilcoxon"
   ],
   "cell_type": "markdown",
   "metadata": {}
  },
  {
   "cell_type": "code",
   "execution_count": null,
   "metadata": {},
   "outputs": [],
   "source": [
    "Mediante el test de Wilcoxon se realiza un ranking mediante una comparación general de los algoritmos, comparando por pares.\n",
    "Con los resultados obtenidos podemos afirmar que el algoritmo ........ es ..... mejor que los algoritmos ........... y .........."
   ]
  },
  {
   "cell_type": "code",
   "execution_count": 84,
   "metadata": {},
   "outputs": [
    {
     "output_type": "execute_result",
     "data": {
      "text/plain": [
       "        propio  scipy  sade\n",
       "propio     1.0    1.0   1.0\n",
       "scipy      1.0    1.0   1.0\n",
       "sade       1.0    1.0   1.0"
      ],
      "text/html": "<div>\n<style scoped>\n    .dataframe tbody tr th:only-of-type {\n        vertical-align: middle;\n    }\n\n    .dataframe tbody tr th {\n        vertical-align: top;\n    }\n\n    .dataframe thead th {\n        text-align: right;\n    }\n</style>\n<table border=\"1\" class=\"dataframe\">\n  <thead>\n    <tr style=\"text-align: right;\">\n      <th></th>\n      <th>propio</th>\n      <th>scipy</th>\n      <th>sade</th>\n    </tr>\n  </thead>\n  <tbody>\n    <tr>\n      <th>propio</th>\n      <td>1.0</td>\n      <td>1.0</td>\n      <td>1.0</td>\n    </tr>\n    <tr>\n      <th>scipy</th>\n      <td>1.0</td>\n      <td>1.0</td>\n      <td>1.0</td>\n    </tr>\n    <tr>\n      <th>sade</th>\n      <td>1.0</td>\n      <td>1.0</td>\n      <td>1.0</td>\n    </tr>\n  </tbody>\n</table>\n</div>"
     },
     "metadata": {},
     "execution_count": 84
    }
   ],
   "source": [
    "import pandas          as pd\n",
    "import scikit_posthocs as sp\n",
    "\n",
    "data = pd.DataFrame({\"algs\": [\"propio\"  ]*len(results_avg[\"propio\"  ]) +\n",
    "                             [\"scipy\"]*len(results_avg[\"scipy\"]) +\n",
    "                             [\"sade\" ]*len(results_avg[\"sade\" ]),\n",
    "                     \"vals\": results_avg[\"propio\"  ] +\n",
    "                             results_avg[\"scipy\"] +\n",
    "                             results_avg[\"sade\" ]})\n",
    "\n",
    "sp.posthoc_wilcoxon(data, val_col='vals', group_col='algs', p_adjust = 'holm')"
   ]
  },
  {
   "cell_type": "code",
   "execution_count": null,
   "metadata": {},
   "outputs": [],
   "source": []
  }
 ]
}